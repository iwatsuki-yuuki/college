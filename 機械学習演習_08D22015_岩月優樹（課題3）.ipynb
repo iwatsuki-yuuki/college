{
  "cells": [
    {
      "cell_type": "markdown",
      "metadata": {
        "id": "view-in-github",
        "colab_type": "text"
      },
      "source": [
        "<a href=\"https://colab.research.google.com/github/iwatsuki-yuuki/college/blob/main/%E6%A9%9F%E6%A2%B0%E5%AD%A6%E7%BF%92%E6%BC%94%E7%BF%92_08D22015_%E5%B2%A9%E6%9C%88%E5%84%AA%E6%A8%B9%EF%BC%88%E8%AA%B2%E9%A1%8C3%EF%BC%89.ipynb\" target=\"_parent\"><img src=\"https://colab.research.google.com/assets/colab-badge.svg\" alt=\"Open In Colab\"/></a>"
      ]
    },
    {
      "cell_type": "code",
      "execution_count": null,
      "metadata": {
        "id": "rTlrRvmk8Eio"
      },
      "outputs": [],
      "source": []
    },
    {
      "cell_type": "code",
      "execution_count": null,
      "metadata": {
        "id": "yn86OXeoPaH8",
        "colab": {
          "base_uri": "https://localhost:8080/"
        },
        "outputId": "fd9b7ba3-84b5-41d2-8ca7-f4cb16c5b3d1"
      },
      "outputs": [
        {
          "output_type": "stream",
          "name": "stdout",
          "text": [
            "Requirement already satisfied: optuna in /usr/local/lib/python3.11/dist-packages (4.3.0)\n",
            "Requirement already satisfied: alembic>=1.5.0 in /usr/local/lib/python3.11/dist-packages (from optuna) (1.15.2)\n",
            "Requirement already satisfied: colorlog in /usr/local/lib/python3.11/dist-packages (from optuna) (6.9.0)\n",
            "Requirement already satisfied: numpy in /usr/local/lib/python3.11/dist-packages (from optuna) (2.0.2)\n",
            "Requirement already satisfied: packaging>=20.0 in /usr/local/lib/python3.11/dist-packages (from optuna) (24.2)\n",
            "Requirement already satisfied: sqlalchemy>=1.4.2 in /usr/local/lib/python3.11/dist-packages (from optuna) (2.0.40)\n",
            "Requirement already satisfied: tqdm in /usr/local/lib/python3.11/dist-packages (from optuna) (4.67.1)\n",
            "Requirement already satisfied: PyYAML in /usr/local/lib/python3.11/dist-packages (from optuna) (6.0.2)\n",
            "Requirement already satisfied: Mako in /usr/lib/python3/dist-packages (from alembic>=1.5.0->optuna) (1.1.3)\n",
            "Requirement already satisfied: typing-extensions>=4.12 in /usr/local/lib/python3.11/dist-packages (from alembic>=1.5.0->optuna) (4.13.2)\n",
            "Requirement already satisfied: greenlet>=1 in /usr/local/lib/python3.11/dist-packages (from sqlalchemy>=1.4.2->optuna) (3.2.2)\n"
          ]
        }
      ],
      "source": [
        "import torch\n",
        "from torch import nn\n",
        "from torch.utils.data import DataLoader\n",
        "from torchvision import datasets\n",
        "from torchvision.transforms import ToTensor, Lambda, Compose\n",
        "import matplotlib.pyplot as plt\n",
        "!pip install optuna"
      ]
    },
    {
      "cell_type": "code",
      "execution_count": null,
      "metadata": {
        "id": "9lWbn3sF8OwS"
      },
      "outputs": [],
      "source": []
    },
    {
      "cell_type": "code",
      "execution_count": null,
      "metadata": {
        "id": "goB3awyhoG9d"
      },
      "outputs": [],
      "source": [
        "from sklearn.preprocessing import StandardScaler"
      ]
    },
    {
      "cell_type": "code",
      "execution_count": null,
      "metadata": {
        "colab": {
          "base_uri": "https://localhost:8080/"
        },
        "id": "--Qzi1c3pKnR",
        "outputId": "f121e829-bb1d-4cbc-a6dc-b8798ea748ae"
      },
      "outputs": [
        {
          "output_type": "stream",
          "name": "stdout",
          "text": [
            "Requirement already satisfied: pandas in /usr/local/lib/python3.11/dist-packages (2.2.2)\n",
            "Requirement already satisfied: tensorflow in /usr/local/lib/python3.11/dist-packages (2.18.0)\n",
            "Requirement already satisfied: scikit-learn in /usr/local/lib/python3.11/dist-packages (1.6.1)\n",
            "Requirement already satisfied: numpy>=1.23.2 in /usr/local/lib/python3.11/dist-packages (from pandas) (2.0.2)\n",
            "Requirement already satisfied: python-dateutil>=2.8.2 in /usr/local/lib/python3.11/dist-packages (from pandas) (2.9.0.post0)\n",
            "Requirement already satisfied: pytz>=2020.1 in /usr/local/lib/python3.11/dist-packages (from pandas) (2025.2)\n",
            "Requirement already satisfied: tzdata>=2022.7 in /usr/local/lib/python3.11/dist-packages (from pandas) (2025.2)\n",
            "Requirement already satisfied: absl-py>=1.0.0 in /usr/local/lib/python3.11/dist-packages (from tensorflow) (1.4.0)\n",
            "Requirement already satisfied: astunparse>=1.6.0 in /usr/local/lib/python3.11/dist-packages (from tensorflow) (1.6.3)\n",
            "Requirement already satisfied: flatbuffers>=24.3.25 in /usr/local/lib/python3.11/dist-packages (from tensorflow) (25.2.10)\n",
            "Requirement already satisfied: gast!=0.5.0,!=0.5.1,!=0.5.2,>=0.2.1 in /usr/local/lib/python3.11/dist-packages (from tensorflow) (0.6.0)\n",
            "Requirement already satisfied: google-pasta>=0.1.1 in /usr/local/lib/python3.11/dist-packages (from tensorflow) (0.2.0)\n",
            "Requirement already satisfied: libclang>=13.0.0 in /usr/local/lib/python3.11/dist-packages (from tensorflow) (18.1.1)\n",
            "Requirement already satisfied: opt-einsum>=2.3.2 in /usr/local/lib/python3.11/dist-packages (from tensorflow) (3.4.0)\n",
            "Requirement already satisfied: packaging in /usr/local/lib/python3.11/dist-packages (from tensorflow) (24.2)\n",
            "Requirement already satisfied: protobuf!=4.21.0,!=4.21.1,!=4.21.2,!=4.21.3,!=4.21.4,!=4.21.5,<6.0.0dev,>=3.20.3 in /usr/local/lib/python3.11/dist-packages (from tensorflow) (5.29.4)\n",
            "Requirement already satisfied: requests<3,>=2.21.0 in /usr/local/lib/python3.11/dist-packages (from tensorflow) (2.32.3)\n",
            "Requirement already satisfied: setuptools in /usr/local/lib/python3.11/dist-packages (from tensorflow) (75.2.0)\n",
            "Requirement already satisfied: six>=1.12.0 in /usr/local/lib/python3.11/dist-packages (from tensorflow) (1.17.0)\n",
            "Requirement already satisfied: termcolor>=1.1.0 in /usr/local/lib/python3.11/dist-packages (from tensorflow) (3.1.0)\n",
            "Requirement already satisfied: typing-extensions>=3.6.6 in /usr/local/lib/python3.11/dist-packages (from tensorflow) (4.13.2)\n",
            "Requirement already satisfied: wrapt>=1.11.0 in /usr/local/lib/python3.11/dist-packages (from tensorflow) (1.17.2)\n",
            "Requirement already satisfied: grpcio<2.0,>=1.24.3 in /usr/local/lib/python3.11/dist-packages (from tensorflow) (1.71.0)\n",
            "Requirement already satisfied: tensorboard<2.19,>=2.18 in /usr/local/lib/python3.11/dist-packages (from tensorflow) (2.18.0)\n",
            "Requirement already satisfied: keras>=3.5.0 in /usr/local/lib/python3.11/dist-packages (from tensorflow) (3.8.0)\n",
            "Requirement already satisfied: h5py>=3.11.0 in /usr/local/lib/python3.11/dist-packages (from tensorflow) (3.13.0)\n",
            "Requirement already satisfied: ml-dtypes<0.5.0,>=0.4.0 in /usr/local/lib/python3.11/dist-packages (from tensorflow) (0.4.1)\n",
            "Requirement already satisfied: tensorflow-io-gcs-filesystem>=0.23.1 in /usr/local/lib/python3.11/dist-packages (from tensorflow) (0.37.1)\n",
            "Requirement already satisfied: scipy>=1.6.0 in /usr/local/lib/python3.11/dist-packages (from scikit-learn) (1.15.3)\n",
            "Requirement already satisfied: joblib>=1.2.0 in /usr/local/lib/python3.11/dist-packages (from scikit-learn) (1.5.0)\n",
            "Requirement already satisfied: threadpoolctl>=3.1.0 in /usr/local/lib/python3.11/dist-packages (from scikit-learn) (3.6.0)\n",
            "Requirement already satisfied: wheel<1.0,>=0.23.0 in /usr/local/lib/python3.11/dist-packages (from astunparse>=1.6.0->tensorflow) (0.45.1)\n",
            "Requirement already satisfied: rich in /usr/local/lib/python3.11/dist-packages (from keras>=3.5.0->tensorflow) (13.9.4)\n",
            "Requirement already satisfied: namex in /usr/local/lib/python3.11/dist-packages (from keras>=3.5.0->tensorflow) (0.0.9)\n",
            "Requirement already satisfied: optree in /usr/local/lib/python3.11/dist-packages (from keras>=3.5.0->tensorflow) (0.15.0)\n",
            "Requirement already satisfied: charset-normalizer<4,>=2 in /usr/local/lib/python3.11/dist-packages (from requests<3,>=2.21.0->tensorflow) (3.4.2)\n",
            "Requirement already satisfied: idna<4,>=2.5 in /usr/local/lib/python3.11/dist-packages (from requests<3,>=2.21.0->tensorflow) (3.10)\n",
            "Requirement already satisfied: urllib3<3,>=1.21.1 in /usr/local/lib/python3.11/dist-packages (from requests<3,>=2.21.0->tensorflow) (2.4.0)\n",
            "Requirement already satisfied: certifi>=2017.4.17 in /usr/local/lib/python3.11/dist-packages (from requests<3,>=2.21.0->tensorflow) (2025.4.26)\n",
            "Requirement already satisfied: markdown>=2.6.8 in /usr/local/lib/python3.11/dist-packages (from tensorboard<2.19,>=2.18->tensorflow) (3.8)\n",
            "Requirement already satisfied: tensorboard-data-server<0.8.0,>=0.7.0 in /usr/local/lib/python3.11/dist-packages (from tensorboard<2.19,>=2.18->tensorflow) (0.7.2)\n",
            "Requirement already satisfied: werkzeug>=1.0.1 in /usr/local/lib/python3.11/dist-packages (from tensorboard<2.19,>=2.18->tensorflow) (3.1.3)\n",
            "Requirement already satisfied: MarkupSafe>=2.1.1 in /usr/local/lib/python3.11/dist-packages (from werkzeug>=1.0.1->tensorboard<2.19,>=2.18->tensorflow) (3.0.2)\n",
            "Requirement already satisfied: markdown-it-py>=2.2.0 in /usr/local/lib/python3.11/dist-packages (from rich->keras>=3.5.0->tensorflow) (3.0.0)\n",
            "Requirement already satisfied: pygments<3.0.0,>=2.13.0 in /usr/local/lib/python3.11/dist-packages (from rich->keras>=3.5.0->tensorflow) (2.19.1)\n",
            "Requirement already satisfied: mdurl~=0.1 in /usr/local/lib/python3.11/dist-packages (from markdown-it-py>=2.2.0->rich->keras>=3.5.0->tensorflow) (0.1.2)\n"
          ]
        }
      ],
      "source": [
        "# pandasとtensorflowのインストール（必要に応じて）\n",
        "!pip install pandas tensorflow scikit-learn\n",
        "import pandas as pd\n",
        "from sklearn.model_selection import train_test_split\n",
        "from sklearn.preprocessing import StandardScaler\n",
        "\n",
        "import numpy as np\n",
        "import random as random\n",
        "import os\n",
        "import sys\n",
        "import copy"
      ]
    },
    {
      "cell_type": "code",
      "source": [
        "#乱数の固定化\n",
        "\n",
        "def seed_everything(seed: int = 42):\n",
        "    random.seed(seed)\n",
        "    np.random.seed(seed)\n",
        "    os.environ[\"PYTHONHASHSEED\"] = str(seed)\n",
        "\n",
        "    if \"torch\" in sys.modules:\n",
        "        torch.manual_seed(seed)\n",
        "        torch.cuda.manual_seed_all(seed)\n",
        "        torch.backends.cudnn.deterministic = True\n",
        "        torch.backends.cudnn.benchmark = False\n",
        "\n",
        "seed_everything(42)"
      ],
      "metadata": {
        "id": "GmuoMf-PiyJH"
      },
      "execution_count": null,
      "outputs": []
    },
    {
      "cell_type": "code",
      "execution_count": null,
      "metadata": {
        "colab": {
          "base_uri": "https://localhost:8080/"
        },
        "id": "7ZkxjZ1opStb",
        "outputId": "559ace79-bd26-425f-8637-5bbd365ddcf6"
      },
      "outputs": [
        {
          "output_type": "stream",
          "name": "stdout",
          "text": [
            "--2025-05-18 18:07:27--  https://raw.githubusercontent.com/propublica/compas-analysis/master/compas-scores-two-years.csv\n",
            "Resolving raw.githubusercontent.com (raw.githubusercontent.com)... 185.199.109.133, 185.199.108.133, 185.199.111.133, ...\n",
            "Connecting to raw.githubusercontent.com (raw.githubusercontent.com)|185.199.109.133|:443... connected.\n",
            "HTTP request sent, awaiting response... 200 OK\n",
            "Length: 2546489 (2.4M) [text/plain]\n",
            "Saving to: ‘compas-scores-two-years.csv.4’\n",
            "\n",
            "\r          compas-sc   0%[                    ]       0  --.-KB/s               \rcompas-scores-two-y 100%[===================>]   2.43M  --.-KB/s    in 0.06s   \n",
            "\n",
            "2025-05-18 18:07:27 (40.4 MB/s) - ‘compas-scores-two-years.csv.4’ saved [2546489/2546489]\n",
            "\n",
            "   id                name   first         last compas_screening_date   sex  \\\n",
            "0   1    miguel hernandez  miguel    hernandez            2013-08-14  Male   \n",
            "1   3         kevon dixon   kevon        dixon            2013-01-27  Male   \n",
            "2   4            ed philo      ed        philo            2013-04-14  Male   \n",
            "3   5         marcu brown   marcu        brown            2013-01-13  Male   \n",
            "4   6  bouthy pierrelouis  bouthy  pierrelouis            2013-03-26  Male   \n",
            "\n",
            "          dob  age          age_cat              race  ...  v_decile_score  \\\n",
            "0  1947-04-18   69  Greater than 45             Other  ...               1   \n",
            "1  1982-01-22   34          25 - 45  African-American  ...               1   \n",
            "2  1991-05-14   24     Less than 25  African-American  ...               3   \n",
            "3  1993-01-21   23     Less than 25  African-American  ...               6   \n",
            "4  1973-01-22   43          25 - 45             Other  ...               1   \n",
            "\n",
            "   v_score_text  v_screening_date  in_custody  out_custody  priors_count.1  \\\n",
            "0           Low        2013-08-14  2014-07-07   2014-07-14               0   \n",
            "1           Low        2013-01-27  2013-01-26   2013-02-05               0   \n",
            "2           Low        2013-04-14  2013-06-16   2013-06-16               4   \n",
            "3        Medium        2013-01-13         NaN          NaN               1   \n",
            "4           Low        2013-03-26         NaN          NaN               2   \n",
            "\n",
            "  start   end event two_year_recid  \n",
            "0     0   327     0              0  \n",
            "1     9   159     1              1  \n",
            "2     0    63     0              1  \n",
            "3     0  1174     0              0  \n",
            "4     0  1102     0              0  \n",
            "\n",
            "[5 rows x 53 columns]\n"
          ]
        }
      ],
      "source": [
        "# Compasデータセットのダウンロード\n",
        "!wget https://raw.githubusercontent.com/propublica/compas-analysis/master/compas-scores-two-years.csv\n",
        "\n",
        "# pandasでデータを読み込む\n",
        "data = pd.read_csv(\"compas-scores-two-years.csv\")\n",
        "\n",
        "# データの最初の5行を表示して確認\n",
        "print(data.head())\n"
      ]
    },
    {
      "cell_type": "code",
      "execution_count": null,
      "metadata": {
        "id": "YTYUXj5yHIXY"
      },
      "outputs": [],
      "source": []
    },
    {
      "cell_type": "code",
      "execution_count": null,
      "metadata": {
        "colab": {
          "base_uri": "https://localhost:8080/"
        },
        "id": "6g8a6eMCxrbm",
        "outputId": "3c4200ac-d3d9-4d0e-98dc-fc7e636d6d2f"
      },
      "outputs": [
        {
          "output_type": "stream",
          "name": "stdout",
          "text": [
            "NaNを含む列: ['days_b_screening_arrest', 'c_jail_in', 'c_jail_out', 'c_case_number', 'c_offense_date', 'c_arrest_date', 'c_days_from_compas', 'c_charge_desc', 'r_case_number', 'r_charge_degree', 'r_days_from_arrest', 'r_offense_date', 'r_charge_desc', 'r_jail_in', 'r_jail_out', 'violent_recid', 'vr_case_number', 'vr_charge_degree', 'vr_offense_date', 'vr_charge_desc', 'in_custody', 'out_custody']\n"
          ]
        },
        {
          "output_type": "stream",
          "name": "stderr",
          "text": [
            "/usr/local/lib/python3.11/dist-packages/sklearn/feature_selection/_univariate_selection.py:111: UserWarning: Features [13322 14016] are constant.\n",
            "  warnings.warn(\"Features %s are constant.\" % constant_features_idx, UserWarning)\n",
            "/usr/local/lib/python3.11/dist-packages/sklearn/feature_selection/_univariate_selection.py:112: RuntimeWarning: invalid value encountered in divide\n",
            "  f = msb / msw\n"
          ]
        }
      ],
      "source": [
        "# データ（特徴量）をPandasのデータフレームに変換\n",
        "df_data = data\n",
        "# ターゲット（ラベル）を別に保存\n",
        "target = data['two_year_recid']\n",
        "\n",
        "#NaNを含むColumn名\n",
        "nan_columns = df_data.columns[df_data.isnull().any()].tolist()\n",
        "print(\"NaNを含む列:\", nan_columns)\n",
        "\n",
        "\n",
        "#欠損値がある行を削除\n",
        "df_data = data.dropna()\n",
        "# 不要な列を削除（例：idなど）\n",
        "df_data = data.drop(columns=['id', 'first','last','start','end','event'], axis=1)\n",
        "df_data = df_data.drop(nan_columns, axis=1)\n",
        "\n",
        "\n",
        "df_encoded = pd.get_dummies(df_data)\n",
        "\n",
        "# ターゲット（ラベル）をOne-Hot Encoding後のデータフレームに追加\n",
        "df_encoded['target'] = target\n",
        "\n",
        "# 特徴量とターゲットを定義\n",
        "X = df_encoded.drop(['two_year_recid','is_recid','is_violent_recid','target'], axis=1)\n",
        "y = df_encoded['target']\n",
        "\n",
        "# 特徴量選択（上位20個のみ使用）\n",
        "from sklearn.feature_selection import SelectKBest, f_classif\n",
        "selector = SelectKBest(f_classif, k=30)\n",
        "X = selector.fit_transform(X, y)\n"
      ]
    },
    {
      "cell_type": "code",
      "execution_count": null,
      "metadata": {
        "id": "5uuemW8n0JTD"
      },
      "outputs": [],
      "source": []
    },
    {
      "cell_type": "code",
      "execution_count": null,
      "metadata": {
        "id": "_zi5FukVK4NY"
      },
      "outputs": [],
      "source": [
        "# 訓練セットとテストセットに分割\n",
        "# (課題1)50％をテストデータとして分けた\n",
        "X_train_val, X_test, y_train_val, y_test = train_test_split(X, y,test_size=0.5, random_state=42)\n",
        "\n",
        "# 残り50%から25%を検証データにする（全体の15%）\n",
        "X_train, X_val, y_train, y_val = train_test_split(X_train_val, y_train_val, test_size = 0.50, random_state=42)\n",
        "\n",
        "# データの標準化\n",
        "\n",
        "scaler = StandardScaler()\n",
        "\n",
        "# 訓練データに対して平均と標準偏差を計算し、それで変換する\n",
        "X_train = scaler.fit_transform(X_train)\n",
        "# 訓練データで計算した基準（平均.標準偏差）を使って検証データとテストデータも同じように整える\n",
        "X_val = scaler.transform(X_val)\n",
        "X_test = scaler.transform(X_test)"
      ]
    },
    {
      "cell_type": "code",
      "execution_count": null,
      "metadata": {
        "id": "L37ANqSWDmE9"
      },
      "outputs": [],
      "source": []
    },
    {
      "cell_type": "code",
      "execution_count": null,
      "metadata": {
        "id": "WbYZfMkp6PO0"
      },
      "outputs": [],
      "source": [
        "# NumPy配列からPyTorchのテンソルに変換\n",
        "X_train_tensor = torch.tensor(X_train, dtype=torch.float32)\n",
        "y_train_tensor = torch.tensor(y_train.values, dtype=torch.long)  # 二値分類の場合、ラベルはlong型\n"
      ]
    },
    {
      "cell_type": "code",
      "execution_count": null,
      "metadata": {
        "id": "ch9cuGvt7Zfo"
      },
      "outputs": [],
      "source": [
        "X_val_tensor = torch.tensor(X_val, dtype=torch.float32)\n",
        "y_val_tensor = torch.tensor(y_val.values, dtype=torch.long)\n",
        "\n",
        "\n",
        "X_test_tensor = torch.tensor(X_test, dtype=torch.float32)\n",
        "y_test_tensor = torch.tensor(y_test.values, dtype=torch.long)"
      ]
    },
    {
      "cell_type": "code",
      "execution_count": null,
      "metadata": {
        "id": "ynYvSxUTQFun"
      },
      "outputs": [],
      "source": []
    },
    {
      "cell_type": "code",
      "execution_count": null,
      "metadata": {
        "id": "PUO_fzZSTKwB"
      },
      "outputs": [],
      "source": []
    },
    {
      "cell_type": "code",
      "execution_count": null,
      "metadata": {
        "id": "9yDVW9iW0m3v"
      },
      "outputs": [],
      "source": [
        "class CompasDataset:\n",
        "    def __init__(self, features, labels):\n",
        "        self.features = features\n",
        "        self.labels = labels\n",
        "\n",
        "    def __len__(self):\n",
        "        return len(self.labels)\n",
        "\n",
        "    def __getitem__(self, idx):\n",
        "        return self.features[idx], self.labels[idx]"
      ]
    },
    {
      "cell_type": "code",
      "execution_count": null,
      "metadata": {
        "colab": {
          "base_uri": "https://localhost:8080/"
        },
        "id": "1mQ7suUpPaH_",
        "outputId": "f79331ab-52fc-443d-b8fc-32a704f13cc2"
      },
      "outputs": [
        {
          "output_type": "stream",
          "name": "stdout",
          "text": [
            "<__main__.CompasDataset object at 0x7e894e2f9ed0>\n"
          ]
        }
      ],
      "source": [
        "batch_size = 128\n",
        "train_dataset = CompasDataset(X_train_tensor, y_train_tensor)\n",
        "val_dataset = CompasDataset(X_val_tensor, y_val_tensor)\n",
        "test_dataset = CompasDataset(X_test_tensor, y_test_tensor)\n",
        "# データローダーの作成\n",
        "train_loader = DataLoader(train_dataset, batch_size=batch_size, shuffle=True)\n",
        "val_loader = DataLoader(val_dataset, batch_size=batch_size, shuffle=False)\n",
        "test_loader = DataLoader(test_dataset, batch_size=batch_size, shuffle=False)\n",
        "\n",
        "print(train_dataset)"
      ]
    },
    {
      "cell_type": "code",
      "execution_count": null,
      "metadata": {
        "id": "tDVdF4gZ0fvq"
      },
      "outputs": [],
      "source": [
        "class CompasDataset:\n",
        "    def __init__(self, features, labels):\n",
        "        self.features = features\n",
        "        self.labels = labels  # Assign labels directly instead of calling .values\n",
        "\n",
        "    def __len__(self):\n",
        "        return len(self.labels)\n",
        "\n",
        "    def __getitem__(self, idx):\n",
        "        return self.features[idx], self.labels[idx] # Access elements using indexing"
      ]
    },
    {
      "cell_type": "code",
      "execution_count": null,
      "metadata": {
        "colab": {
          "base_uri": "https://localhost:8080/"
        },
        "id": "iPbynTvRoN9j",
        "outputId": "958045b5-fc55-4c5a-c748-4677d754b7ce"
      },
      "outputs": [
        {
          "output_type": "stream",
          "name": "stdout",
          "text": [
            "30\n"
          ]
        }
      ],
      "source": [
        "length = X.shape[1]\n",
        "print(length)"
      ]
    },
    {
      "cell_type": "code",
      "execution_count": null,
      "metadata": {
        "colab": {
          "base_uri": "https://localhost:8080/"
        },
        "id": "LxiGClK2PaIA",
        "outputId": "314bf772-b8d0-4555-f189-96d1b79a4321"
      },
      "outputs": [
        {
          "output_type": "stream",
          "name": "stderr",
          "text": [
            "[I 2025-05-18 18:07:31,878] A new study created in memory with name: no-name-c2676adc-f8ff-40c9-acef-e82df6e135fe\n"
          ]
        },
        {
          "output_type": "stream",
          "name": "stdout",
          "text": [
            "Using cuda device\n"
          ]
        },
        {
          "output_type": "stream",
          "name": "stderr",
          "text": [
            "[I 2025-05-18 18:07:32,225] Trial 0 finished with value: 0.5698447893569845 and parameters: {'optimizer': 'SGD', 'lr': 0.00011642069660115304}. Best is trial 0 with value: 0.5698447893569845.\n",
            "[I 2025-05-18 18:07:32,529] Trial 1 finished with value: 0.655210643015521 and parameters: {'optimizer': 'Adam', 'lr': 0.00017298895157807966}. Best is trial 1 with value: 0.655210643015521.\n",
            "[I 2025-05-18 18:07:32,779] Trial 2 finished with value: 0.6541019955654102 and parameters: {'optimizer': 'SGD', 'lr': 0.009349432576408905}. Best is trial 1 with value: 0.655210643015521.\n",
            "[I 2025-05-18 18:07:33,116] Trial 3 finished with value: 0.6590909090909091 and parameters: {'optimizer': 'Adam', 'lr': 0.0014823632314051938}. Best is trial 3 with value: 0.6590909090909091.\n",
            "[I 2025-05-18 18:07:33,523] Trial 4 finished with value: 0.6657427937915743 and parameters: {'optimizer': 'Adam', 'lr': 0.008441545262255358}. Best is trial 4 with value: 0.6657427937915743.\n",
            "[I 2025-05-18 18:07:33,941] Trial 5 finished with value: 0.6651884700665188 and parameters: {'optimizer': 'Adam', 'lr': 0.006743332743673873}. Best is trial 4 with value: 0.6657427937915743.\n",
            "[I 2025-05-18 18:07:34,521] Trial 6 finished with value: 0.6601995565410199 and parameters: {'optimizer': 'Adam', 'lr': 0.0032769932076835}. Best is trial 4 with value: 0.6657427937915743.\n",
            "[I 2025-05-18 18:07:35,226] Trial 7 finished with value: 0.5986696230598669 and parameters: {'optimizer': 'SGD', 'lr': 0.00010291337482992403}. Best is trial 4 with value: 0.6657427937915743.\n",
            "[I 2025-05-18 18:07:35,848] Trial 8 finished with value: 0.6335920177383592 and parameters: {'optimizer': 'SGD', 'lr': 0.0031137188842557642}. Best is trial 4 with value: 0.6657427937915743.\n",
            "[I 2025-05-18 18:07:36,801] Trial 9 finished with value: 0.5521064301552107 and parameters: {'optimizer': 'SGD', 'lr': 0.00017097069889981917}. Best is trial 4 with value: 0.6657427937915743.\n",
            "[I 2025-05-18 18:07:37,340] Trial 10 finished with value: 0.6601995565410199 and parameters: {'optimizer': 'Adam', 'lr': 0.0004809906310466208}. Best is trial 4 with value: 0.6657427937915743.\n",
            "[I 2025-05-18 18:07:37,844] Trial 11 finished with value: 0.6646341463414634 and parameters: {'optimizer': 'Adam', 'lr': 0.009347679532113459}. Best is trial 4 with value: 0.6657427937915743.\n",
            "[I 2025-05-18 18:07:38,261] Trial 12 finished with value: 0.6585365853658537 and parameters: {'optimizer': 'Adam', 'lr': 0.004136762219229596}. Best is trial 4 with value: 0.6657427937915743.\n",
            "[I 2025-05-18 18:07:38,804] Trial 13 finished with value: 0.6529933481152993 and parameters: {'optimizer': 'Adam', 'lr': 0.001250888773587951}. Best is trial 4 with value: 0.6657427937915743.\n",
            "[I 2025-05-18 18:07:39,357] Trial 14 finished with value: 0.6613082039911308 and parameters: {'optimizer': 'Adam', 'lr': 0.005050034487274335}. Best is trial 4 with value: 0.6657427937915743.\n",
            "[I 2025-05-18 18:07:39,769] Trial 15 finished with value: 0.6590909090909091 and parameters: {'optimizer': 'Adam', 'lr': 0.0006365321433475474}. Best is trial 4 with value: 0.6657427937915743.\n",
            "[I 2025-05-18 18:07:40,191] Trial 16 finished with value: 0.655210643015521 and parameters: {'optimizer': 'Adam', 'lr': 0.002065159309966937}. Best is trial 4 with value: 0.6657427937915743.\n",
            "[I 2025-05-18 18:07:40,628] Trial 17 finished with value: 0.6624168514412417 and parameters: {'optimizer': 'Adam', 'lr': 0.005952068153587319}. Best is trial 4 with value: 0.6657427937915743.\n",
            "[I 2025-05-18 18:07:41,003] Trial 18 finished with value: 0.6557649667405765 and parameters: {'optimizer': 'Adam', 'lr': 0.002268533870681225}. Best is trial 4 with value: 0.6657427937915743.\n",
            "[I 2025-05-18 18:07:41,385] Trial 19 finished with value: 0.6674057649667405 and parameters: {'optimizer': 'Adam', 'lr': 0.006828443605213385}. Best is trial 19 with value: 0.6674057649667405.\n",
            "[I 2025-05-18 18:07:41,834] Trial 20 finished with value: 0.6574279379157428 and parameters: {'optimizer': 'Adam', 'lr': 0.0007025201153440205}. Best is trial 19 with value: 0.6674057649667405.\n",
            "[I 2025-05-18 18:07:42,254] Trial 21 finished with value: 0.6607538802660754 and parameters: {'optimizer': 'Adam', 'lr': 0.006677071873511889}. Best is trial 19 with value: 0.6674057649667405.\n",
            "[I 2025-05-18 18:07:42,713] Trial 22 finished with value: 0.6624168514412417 and parameters: {'optimizer': 'Adam', 'lr': 0.009375014974632383}. Best is trial 19 with value: 0.6674057649667405.\n",
            "[I 2025-05-18 18:07:43,136] Trial 23 finished with value: 0.6657427937915743 and parameters: {'optimizer': 'Adam', 'lr': 0.00606867226657765}. Best is trial 19 with value: 0.6674057649667405.\n",
            "[I 2025-05-18 18:07:43,703] Trial 24 finished with value: 0.6579822616407982 and parameters: {'optimizer': 'Adam', 'lr': 0.003459021511348383}. Best is trial 19 with value: 0.6674057649667405.\n",
            "[I 2025-05-18 18:07:44,418] Trial 25 finished with value: 0.6607538802660754 and parameters: {'optimizer': 'Adam', 'lr': 0.0022852976654001633}. Best is trial 19 with value: 0.6674057649667405.\n",
            "[I 2025-05-18 18:07:44,930] Trial 26 finished with value: 0.6341463414634146 and parameters: {'optimizer': 'SGD', 'lr': 0.004866624028067579}. Best is trial 19 with value: 0.6674057649667405.\n",
            "[I 2025-05-18 18:07:45,636] Trial 27 finished with value: 0.6646341463414634 and parameters: {'optimizer': 'Adam', 'lr': 0.007357182785662511}. Best is trial 19 with value: 0.6674057649667405.\n",
            "[I 2025-05-18 18:07:46,114] Trial 28 finished with value: 0.6629711751662971 and parameters: {'optimizer': 'Adam', 'lr': 0.0003228714317825418}. Best is trial 19 with value: 0.6674057649667405.\n",
            "[I 2025-05-18 18:07:46,581] Trial 29 finished with value: 0.6147450110864745 and parameters: {'optimizer': 'SGD', 'lr': 0.0016676283546329022}. Best is trial 19 with value: 0.6674057649667405.\n"
          ]
        }
      ],
      "source": [
        "# デバイスの設定\n",
        "device = \"cuda\" if torch.cuda.is_available() else \"cpu\"\n",
        "print(\"Using {} device\".format(device))\n",
        "\n",
        "# ニューラルネットワークの定義\n",
        "class SimpleNN(nn.Module):\n",
        "    def __init__(self, input_size):\n",
        "        super().__init__()\n",
        "        self.net = nn.Sequential(\n",
        "            nn.Linear(input_size, 128),\n",
        "            nn.ReLU(),\n",
        "            nn.BatchNorm1d(128),\n",
        "            nn.Dropout(0.4),\n",
        "            nn.Linear(128, 64),\n",
        "            nn.ReLU(),\n",
        "            nn.BatchNorm1d(64),\n",
        "            nn.Dropout(0.3),\n",
        "            nn.Linear(64, 2)\n",
        "        )\n",
        "    def forward(self, x):\n",
        "        return self.net(x)\n",
        "\n",
        "\n",
        "# Optuna の目的関数\n",
        "def objective(trial):\n",
        "    model = SimpleNN(input_size=X_train.shape[1]).to(device)\n",
        "\n",
        "    optimizer_name = trial.suggest_categorical(\"optimizer\", [\"Adam\", \"SGD\"])\n",
        "    lr = trial.suggest_float(\"lr\", 1e-4, 1e-2, log=True)\n",
        "    optimizer = getattr(torch.optim, optimizer_name)(model.parameters(), lr=lr)\n",
        "    loss_fn = nn.CrossEntropyLoss()\n",
        "\n",
        "    for epoch in range(5):\n",
        "        model.train()\n",
        "        for X_batch, y_batch in train_loader:\n",
        "            X_batch, y_batch = X_batch.to(device), y_batch.to(device)\n",
        "            optimizer.zero_grad()\n",
        "            pred = model(X_batch)\n",
        "            loss = loss_fn(pred, y_batch)\n",
        "            loss.backward()\n",
        "            optimizer.step()\n",
        "\n",
        "    # 検証精度を評価\n",
        "    model.eval()\n",
        "    correct = 0\n",
        "    with torch.no_grad():\n",
        "        for X_batch, y_batch in val_loader:\n",
        "            X_batch, y_batch = X_batch.to(device), y_batch.to(device)\n",
        "            pred = model(X_batch)\n",
        "            correct += (pred.argmax(1) == y_batch).sum().item()\n",
        "\n",
        "    accuracy = correct / len(val_loader.dataset)\n",
        "    return accuracy\n",
        "\n",
        "# Optunaの最適化実行\n",
        "import optuna\n",
        "study = optuna.create_study(direction=\"maximize\")\n",
        "study.optimize(objective, n_trials=30)\n",
        "\n",
        "# 最良のパラメータでモデル再構成\n",
        "best_params = study.best_params\n",
        "best_model = SimpleNN(input_size=X_train.shape[1]).to(device)\n",
        "optimizer = getattr(torch.optim, best_params['optimizer'])(best_model.parameters(), lr=best_params['lr'])\n"
      ]
    },
    {
      "cell_type": "code",
      "execution_count": null,
      "metadata": {
        "colab": {
          "base_uri": "https://localhost:8080/"
        },
        "id": "c-rtD5ODZLFS",
        "outputId": "754a7606-37b6-48e6-94c5-eb5681563d31"
      },
      "outputs": [
        {
          "output_type": "stream",
          "name": "stdout",
          "text": [
            "net.0.weight: mean=-0.0011611819500103593, std=0.10501782596111298\n",
            "net.0.bias: mean=0.00946962833404541, std=0.10828668624162674\n",
            "net.2.weight: mean=1.0, std=0.0\n",
            "net.2.bias: mean=0.0, std=0.0\n",
            "net.4.weight: mean=0.0009961110772565007, std=0.05106673389673233\n",
            "net.4.bias: mean=0.0026716941501945257, std=0.05522052198648453\n",
            "net.6.weight: mean=1.0, std=0.0\n",
            "net.6.bias: mean=0.0, std=0.0\n",
            "net.8.weight: mean=-0.015230748802423477, std=0.07888028770685196\n",
            "net.8.bias: mean=-0.03428048640489578, std=0.01166954543441534\n"
          ]
        }
      ],
      "source": [
        "for name, param in best_model.named_parameters():\n",
        "    print(f\"{name}: mean={param.data.mean().item()}, std={param.data.std().item()}\")"
      ]
    },
    {
      "cell_type": "code",
      "execution_count": null,
      "metadata": {
        "id": "iUhxZFrWPaIB"
      },
      "outputs": [],
      "source": [
        "from sklearn.utils.class_weight import compute_class_weight\n",
        "\n",
        "# クラス重みを計算（再犯・非再犯のバランス対策）\n",
        "class_weights = compute_class_weight(class_weight='balanced', classes=np.unique(y_train), y=y_train)\n",
        "class_weights_tensor = torch.tensor(class_weights, dtype=torch.float32).to(device)\n",
        "\n",
        "# 損失関数に重みを設定\n",
        "loss_fn = nn.CrossEntropyLoss(weight=class_weights_tensor)\n"
      ]
    },
    {
      "cell_type": "code",
      "execution_count": null,
      "metadata": {
        "id": "71P137ofZj9s"
      },
      "outputs": [],
      "source": []
    },
    {
      "cell_type": "code",
      "execution_count": null,
      "metadata": {
        "id": "dnqyJyp9PaIC"
      },
      "outputs": [],
      "source": [
        "def train(dataloader, model, loss_fn, optimizer):\n",
        "    size = len(dataloader.dataset)\n",
        "    for batch, (X, y) in enumerate(dataloader):\n",
        "        X, y = X.to(device), y.to(device)\n",
        "        # 損失誤差を計算\n",
        "        pred = model(X)\n",
        "        #print(pred)\n",
        "        loss = loss_fn(pred, y)\n",
        "\n",
        "        # バックプロパゲーション\n",
        "        optimizer.zero_grad()\n",
        "        loss.backward()\n",
        "        optimizer.step()\n",
        "\n",
        "        if batch % 10 == 0:\n",
        "            loss, current = loss.item(), batch * len(X)\n",
        "            print(f\"loss: {loss:>7f}  [{current:>5d}/{size:>5d}]\")"
      ]
    },
    {
      "cell_type": "code",
      "execution_count": null,
      "metadata": {
        "id": "OxUT7hOJPaID"
      },
      "outputs": [],
      "source": [
        "def test(dataloader, model):\n",
        "    size = len(dataloader.dataset)\n",
        "    model.eval()\n",
        "    avg_loss, accuracy = 0, 0\n",
        "    with torch.no_grad():\n",
        "        for X, y in dataloader:\n",
        "            X, y = X.to(device), y.to(device)\n",
        "            pred = model(X)\n",
        "            avg_loss += loss_fn(pred, y).item()\n",
        "            accuracy += (pred.argmax(1) == y).type(torch.float).sum().item()\n",
        "    avg_loss /= size\n",
        "    accuracy /= size\n",
        "    return avg_loss, accuracy\n"
      ]
    },
    {
      "cell_type": "code",
      "source": [
        "epochs = 150\n",
        "patience = 10\n",
        "best_val_loss = float(\"inf\")\n",
        "patience_counter = 0"
      ],
      "metadata": {
        "id": "f-ZBzI79gcvb"
      },
      "execution_count": null,
      "outputs": []
    },
    {
      "cell_type": "code",
      "source": [],
      "metadata": {
        "id": "4z8ANLM9wvRw"
      },
      "execution_count": null,
      "outputs": []
    },
    {
      "cell_type": "code",
      "execution_count": null,
      "metadata": {
        "colab": {
          "base_uri": "https://localhost:8080/"
        },
        "id": "UklgW5aBPaIF",
        "outputId": "ce9a071e-4cba-4064-99d7-55e0593b5c28"
      },
      "outputs": [
        {
          "output_type": "stream",
          "name": "stdout",
          "text": [
            "loss: 0.879643  [    0/ 1803]\n",
            "loss: 0.607368  [ 1280/ 1803]\n",
            "Epoch 0, Val Accuracy: 64.47%, Val Loss: 0.0053\n",
            "loss: 0.635512  [    0/ 1803]\n",
            "loss: 0.595669  [ 1280/ 1803]\n",
            "Epoch 1, Val Accuracy: 66.02%, Val Loss: 0.0053\n",
            "loss: 0.578812  [    0/ 1803]\n",
            "loss: 0.628244  [ 1280/ 1803]\n",
            "Epoch 2, Val Accuracy: 65.63%, Val Loss: 0.0053\n",
            "loss: 0.597001  [    0/ 1803]\n",
            "loss: 0.605274  [ 1280/ 1803]\n",
            "Epoch 3, Val Accuracy: 65.08%, Val Loss: 0.0055\n",
            "loss: 0.668882  [    0/ 1803]\n",
            "loss: 0.558975  [ 1280/ 1803]\n",
            "Epoch 4, Val Accuracy: 66.13%, Val Loss: 0.0054\n",
            "loss: 0.530313  [    0/ 1803]\n",
            "loss: 0.577581  [ 1280/ 1803]\n",
            "Epoch 5, Val Accuracy: 65.02%, Val Loss: 0.0053\n",
            "loss: 0.548978  [    0/ 1803]\n",
            "loss: 0.576327  [ 1280/ 1803]\n",
            "Epoch 6, Val Accuracy: 65.13%, Val Loss: 0.0054\n",
            "loss: 0.547952  [    0/ 1803]\n",
            "loss: 0.606080  [ 1280/ 1803]\n",
            "Epoch 7, Val Accuracy: 65.96%, Val Loss: 0.0055\n",
            "loss: 0.558466  [    0/ 1803]\n",
            "loss: 0.585482  [ 1280/ 1803]\n",
            "Epoch 8, Val Accuracy: 64.69%, Val Loss: 0.0054\n",
            "loss: 0.571027  [    0/ 1803]\n",
            "loss: 0.533876  [ 1280/ 1803]\n",
            "Epoch 9, Val Accuracy: 64.30%, Val Loss: 0.0056\n",
            "loss: 0.543173  [    0/ 1803]\n",
            "loss: 0.546440  [ 1280/ 1803]\n",
            "Epoch 10, Val Accuracy: 64.63%, Val Loss: 0.0055\n",
            "loss: 0.548322  [    0/ 1803]\n",
            "loss: 0.608243  [ 1280/ 1803]\n",
            "Epoch 11, Val Accuracy: 64.25%, Val Loss: 0.0057\n",
            "loss: 0.500277  [    0/ 1803]\n",
            "loss: 0.593445  [ 1280/ 1803]\n",
            "Epoch 12, Val Accuracy: 64.52%, Val Loss: 0.0057\n",
            "Early stopping triggered!\n",
            "Done!\n",
            "Test Error: \n",
            " Accuracy: 68.0%, Val loss: 0.004921 \n",
            "\n"
          ]
        }
      ],
      "source": [
        "best_model_state = None\n",
        "best_val_loss = float(\"inf\")\n",
        "patience_counter = 0\n",
        "\n",
        "for t in range(epochs):\n",
        "    train(train_loader, best_model, loss_fn, optimizer)\n",
        "    val_loss, val_accuracy = test(val_loader, best_model)\n",
        "\n",
        "    print(f\"Epoch {t}, Val Accuracy: {(100*val_accuracy):.2f}%, Val Loss: {val_loss:.4f}\")\n",
        "\n",
        "    if val_loss < best_val_loss:\n",
        "        best_val_loss = val_loss\n",
        "        best_model_state = copy.deepcopy(best_model.state_dict())\n",
        "        patience_counter = 0\n",
        "    else:\n",
        "        patience_counter += 1\n",
        "\n",
        "    if patience_counter >= patience:\n",
        "        print(\"Early stopping triggered!\")\n",
        "        break\n",
        "\n",
        "# 最良モデルをロード\n",
        "best_model.load_state_dict(best_model_state)\n",
        "\n",
        "print(\"Done!\")\n",
        "\n",
        "# 未知のテストデータでモデル学習、最終的な精度と損失を表示します\n",
        "test_loss, test_accuracy = test(test_loader, best_model)\n",
        "print(f\"Test Error: \\n Accuracy: {(100*test_accuracy):>0.1f}%, Val loss: {test_loss:>8f} \\n\")\n"
      ]
    },
    {
      "cell_type": "code",
      "execution_count": null,
      "metadata": {
        "id": "S4r6aK92dyHA"
      },
      "outputs": [],
      "source": [
        "y_pred = best_model(X_test_tensor.to(device)).argmax(1)"
      ]
    },
    {
      "cell_type": "code",
      "execution_count": null,
      "metadata": {
        "id": "KOq-mg2y-oFH",
        "colab": {
          "base_uri": "https://localhost:8080/",
          "height": 614
        },
        "outputId": "27ea3da7-db3c-4a18-f851-d1fb48a49340"
      },
      "outputs": [
        {
          "output_type": "stream",
          "name": "stdout",
          "text": [
            "              precision    recall  f1-score   support\n",
            "\n",
            "           0      0.706     0.732     0.719      2012\n",
            "           1      0.645     0.615     0.630      1595\n",
            "\n",
            "    accuracy                          0.680      3607\n",
            "   macro avg      0.676     0.674     0.674      3607\n",
            "weighted avg      0.679     0.680     0.679      3607\n",
            "\n"
          ]
        },
        {
          "output_type": "execute_result",
          "data": {
            "text/plain": [
              "<Axes: >"
            ]
          },
          "metadata": {},
          "execution_count": 135
        },
        {
          "output_type": "display_data",
          "data": {
            "text/plain": [
              "<Figure size 640x480 with 2 Axes>"
            ],
            "image/png": "[encoded data removed]"
          },
          "metadata": {}
        }
      ],
      "source": [
        "# テスト用データで予測値を生成する\n",
        "\n",
        "# テスト用データで予測した結果のclassfication_reportを表示する\n",
        "from sklearn.metrics import classification_report\n",
        "\n",
        "# classfication_reportを表示\n",
        "print(classification_report(y_test_tensor.cpu(),y_pred.cpu(),digits=3))\n",
        "\n",
        "# 混同行列を作成してseabornで表示する\n",
        "from sklearn.metrics import confusion_matrix\n",
        "import seaborn as sns\n",
        "# 混同行列を表示\n",
        "cm = confusion_matrix(y_test_tensor.cpu(),y_pred.cpu())\n",
        "sns.heatmap(cm, annot=True, cmap='Blues')\n"
      ]
    },
    {
      "cell_type": "code",
      "source": [],
      "metadata": {
        "id": "ftPB4qVppx8p"
      },
      "execution_count": null,
      "outputs": []
    }
  ],
  "metadata": {
    "colab": {
      "provenance": [],
      "gpuType": "T4",
      "include_colab_link": true
    },
    "kernelspec": {
      "display_name": "Python 3",
      "name": "python3"
    },
    "language_info": {
      "name": "python"
    },
    "accelerator": "GPU"
  },
  "nbformat": 4,
  "nbformat_minor": 0
}