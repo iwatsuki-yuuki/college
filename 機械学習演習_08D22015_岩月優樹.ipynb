{
  "cells": [
    {
      "cell_type": "code",
      "execution_count": null,
      "metadata": {
        "id": "rTlrRvmk8Eio"
      },
      "outputs": [],
      "source": []
    },
    {
      "cell_type": "code",
      "execution_count": 1,
      "metadata": {
        "id": "yn86OXeoPaH8"
      },
      "outputs": [],
      "source": [
        "import torch\n",
        "from torch import nn\n",
        "from torch.utils.data import DataLoader\n",
        "from torchvision import datasets\n",
        "from torchvision.transforms import ToTensor, Lambda, Compose\n",
        "import matplotlib.pyplot as plt"
      ]
    },
    {
      "cell_type": "code",
      "execution_count": 1,
      "metadata": {
        "id": "9lWbn3sF8OwS"
      },
      "outputs": [],
      "source": []
    },
    {
      "cell_type": "code",
      "execution_count": 2,
      "metadata": {
        "id": "goB3awyhoG9d"
      },
      "outputs": [],
      "source": [
        "from sklearn.preprocessing import StandardScaler"
      ]
    },
    {
      "cell_type": "code",
      "execution_count": 3,
      "metadata": {
        "colab": {
          "base_uri": "https://localhost:8080/"
        },
        "id": "--Qzi1c3pKnR",
        "outputId": "4449219a-1d3c-4594-e274-34d83b995b5f"
      },
      "outputs": [
        {
          "output_type": "stream",
          "name": "stdout",
          "text": [
            "Requirement already satisfied: pandas in /usr/local/lib/python3.11/dist-packages (2.2.2)\n",
            "Requirement already satisfied: tensorflow in /usr/local/lib/python3.11/dist-packages (2.18.0)\n",
            "Requirement already satisfied: scikit-learn in /usr/local/lib/python3.11/dist-packages (1.6.1)\n",
            "Requirement already satisfied: numpy>=1.23.2 in /usr/local/lib/python3.11/dist-packages (from pandas) (2.0.2)\n",
            "Requirement already satisfied: python-dateutil>=2.8.2 in /usr/local/lib/python3.11/dist-packages (from pandas) (2.9.0.post0)\n",
            "Requirement already satisfied: pytz>=2020.1 in /usr/local/lib/python3.11/dist-packages (from pandas) (2025.2)\n",
            "Requirement already satisfied: tzdata>=2022.7 in /usr/local/lib/python3.11/dist-packages (from pandas) (2025.2)\n",
            "Requirement already satisfied: absl-py>=1.0.0 in /usr/local/lib/python3.11/dist-packages (from tensorflow) (1.4.0)\n",
            "Requirement already satisfied: astunparse>=1.6.0 in /usr/local/lib/python3.11/dist-packages (from tensorflow) (1.6.3)\n",
            "Requirement already satisfied: flatbuffers>=24.3.25 in /usr/local/lib/python3.11/dist-packages (from tensorflow) (25.2.10)\n",
            "Requirement already satisfied: gast!=0.5.0,!=0.5.1,!=0.5.2,>=0.2.1 in /usr/local/lib/python3.11/dist-packages (from tensorflow) (0.6.0)\n",
            "Requirement already satisfied: google-pasta>=0.1.1 in /usr/local/lib/python3.11/dist-packages (from tensorflow) (0.2.0)\n",
            "Requirement already satisfied: libclang>=13.0.0 in /usr/local/lib/python3.11/dist-packages (from tensorflow) (18.1.1)\n",
            "Requirement already satisfied: opt-einsum>=2.3.2 in /usr/local/lib/python3.11/dist-packages (from tensorflow) (3.4.0)\n",
            "Requirement already satisfied: packaging in /usr/local/lib/python3.11/dist-packages (from tensorflow) (24.2)\n",
            "Requirement already satisfied: protobuf!=4.21.0,!=4.21.1,!=4.21.2,!=4.21.3,!=4.21.4,!=4.21.5,<6.0.0dev,>=3.20.3 in /usr/local/lib/python3.11/dist-packages (from tensorflow) (5.29.4)\n",
            "Requirement already satisfied: requests<3,>=2.21.0 in /usr/local/lib/python3.11/dist-packages (from tensorflow) (2.32.3)\n",
            "Requirement already satisfied: setuptools in /usr/local/lib/python3.11/dist-packages (from tensorflow) (75.2.0)\n",
            "Requirement already satisfied: six>=1.12.0 in /usr/local/lib/python3.11/dist-packages (from tensorflow) (1.17.0)\n",
            "Requirement already satisfied: termcolor>=1.1.0 in /usr/local/lib/python3.11/dist-packages (from tensorflow) (3.0.1)\n",
            "Requirement already satisfied: typing-extensions>=3.6.6 in /usr/local/lib/python3.11/dist-packages (from tensorflow) (4.13.2)\n",
            "Requirement already satisfied: wrapt>=1.11.0 in /usr/local/lib/python3.11/dist-packages (from tensorflow) (1.17.2)\n",
            "Requirement already satisfied: grpcio<2.0,>=1.24.3 in /usr/local/lib/python3.11/dist-packages (from tensorflow) (1.71.0)\n",
            "Requirement already satisfied: tensorboard<2.19,>=2.18 in /usr/local/lib/python3.11/dist-packages (from tensorflow) (2.18.0)\n",
            "Requirement already satisfied: keras>=3.5.0 in /usr/local/lib/python3.11/dist-packages (from tensorflow) (3.8.0)\n",
            "Requirement already satisfied: h5py>=3.11.0 in /usr/local/lib/python3.11/dist-packages (from tensorflow) (3.13.0)\n",
            "Requirement already satisfied: ml-dtypes<0.5.0,>=0.4.0 in /usr/local/lib/python3.11/dist-packages (from tensorflow) (0.4.1)\n",
            "Requirement already satisfied: tensorflow-io-gcs-filesystem>=0.23.1 in /usr/local/lib/python3.11/dist-packages (from tensorflow) (0.37.1)\n",
            "Requirement already satisfied: scipy>=1.6.0 in /usr/local/lib/python3.11/dist-packages (from scikit-learn) (1.15.2)\n",
            "Requirement already satisfied: joblib>=1.2.0 in /usr/local/lib/python3.11/dist-packages (from scikit-learn) (1.4.2)\n",
            "Requirement already satisfied: threadpoolctl>=3.1.0 in /usr/local/lib/python3.11/dist-packages (from scikit-learn) (3.6.0)\n",
            "Requirement already satisfied: wheel<1.0,>=0.23.0 in /usr/local/lib/python3.11/dist-packages (from astunparse>=1.6.0->tensorflow) (0.45.1)\n",
            "Requirement already satisfied: rich in /usr/local/lib/python3.11/dist-packages (from keras>=3.5.0->tensorflow) (13.9.4)\n",
            "Requirement already satisfied: namex in /usr/local/lib/python3.11/dist-packages (from keras>=3.5.0->tensorflow) (0.0.9)\n",
            "Requirement already satisfied: optree in /usr/local/lib/python3.11/dist-packages (from keras>=3.5.0->tensorflow) (0.15.0)\n",
            "Requirement already satisfied: charset-normalizer<4,>=2 in /usr/local/lib/python3.11/dist-packages (from requests<3,>=2.21.0->tensorflow) (3.4.1)\n",
            "Requirement already satisfied: idna<4,>=2.5 in /usr/local/lib/python3.11/dist-packages (from requests<3,>=2.21.0->tensorflow) (3.10)\n",
            "Requirement already satisfied: urllib3<3,>=1.21.1 in /usr/local/lib/python3.11/dist-packages (from requests<3,>=2.21.0->tensorflow) (2.4.0)\n",
            "Requirement already satisfied: certifi>=2017.4.17 in /usr/local/lib/python3.11/dist-packages (from requests<3,>=2.21.0->tensorflow) (2025.1.31)\n",
            "Requirement already satisfied: markdown>=2.6.8 in /usr/local/lib/python3.11/dist-packages (from tensorboard<2.19,>=2.18->tensorflow) (3.8)\n",
            "Requirement already satisfied: tensorboard-data-server<0.8.0,>=0.7.0 in /usr/local/lib/python3.11/dist-packages (from tensorboard<2.19,>=2.18->tensorflow) (0.7.2)\n",
            "Requirement already satisfied: werkzeug>=1.0.1 in /usr/local/lib/python3.11/dist-packages (from tensorboard<2.19,>=2.18->tensorflow) (3.1.3)\n",
            "Requirement already satisfied: MarkupSafe>=2.1.1 in /usr/local/lib/python3.11/dist-packages (from werkzeug>=1.0.1->tensorboard<2.19,>=2.18->tensorflow) (3.0.2)\n",
            "Requirement already satisfied: markdown-it-py>=2.2.0 in /usr/local/lib/python3.11/dist-packages (from rich->keras>=3.5.0->tensorflow) (3.0.0)\n",
            "Requirement already satisfied: pygments<3.0.0,>=2.13.0 in /usr/local/lib/python3.11/dist-packages (from rich->keras>=3.5.0->tensorflow) (2.19.1)\n",
            "Requirement already satisfied: mdurl~=0.1 in /usr/local/lib/python3.11/dist-packages (from markdown-it-py>=2.2.0->rich->keras>=3.5.0->tensorflow) (0.1.2)\n"
          ]
        }
      ],
      "source": [
        "# pandasとtensorflowのインストール（必要に応じて）\n",
        "!pip install pandas tensorflow scikit-learn\n",
        "import pandas as pd\n",
        "from sklearn.model_selection import train_test_split\n",
        "from sklearn.preprocessing import StandardScaler\n",
        "\n",
        "import numpy as np\n",
        "import random as random\n",
        "import os\n",
        "import sys\n",
        "import copy"
      ]
    },
    {
      "cell_type": "code",
      "source": [
        "#乱数の固定化\n",
        "\n",
        "def seed_everything(seed: int = 42):\n",
        "    random.seed(seed)\n",
        "    np.random.seed(seed)\n",
        "    os.environ[\"PYTHONHASHSEED\"] = str(seed)\n",
        "\n",
        "    if \"torch\" in sys.modules:\n",
        "        torch.manual_seed(seed)\n",
        "        torch.cuda.manual_seed_all(seed)\n",
        "        torch.backends.cudnn.deterministic = True\n",
        "        torch.backends.cudnn.benchmark = False\n",
        "\n",
        "seed_everything(42)"
      ],
      "metadata": {
        "id": "GmuoMf-PiyJH"
      },
      "execution_count": 4,
      "outputs": []
    },
    {
      "cell_type": "code",
      "execution_count": 5,
      "metadata": {
        "colab": {
          "base_uri": "https://localhost:8080/"
        },
        "id": "7ZkxjZ1opStb",
        "outputId": "a1a3a69b-900e-47ee-cdaa-6cd60a15cd15"
      },
      "outputs": [
        {
          "output_type": "stream",
          "name": "stdout",
          "text": [
            "--2025-05-01 08:27:47--  https://raw.githubusercontent.com/propublica/compas-analysis/master/compas-scores-two-years.csv\n",
            "Resolving raw.githubusercontent.com (raw.githubusercontent.com)... 185.199.108.133, 185.199.109.133, 185.199.110.133, ...\n",
            "Connecting to raw.githubusercontent.com (raw.githubusercontent.com)|185.199.108.133|:443... connected.\n",
            "HTTP request sent, awaiting response... 200 OK\n",
            "Length: 2546489 (2.4M) [text/plain]\n",
            "Saving to: ‘compas-scores-two-years.csv’\n",
            "\n",
            "compas-scores-two-y 100%[===================>]   2.43M  --.-KB/s    in 0.009s  \n",
            "\n",
            "2025-05-01 08:27:47 (277 MB/s) - ‘compas-scores-two-years.csv’ saved [2546489/2546489]\n",
            "\n",
            "   id                name   first         last compas_screening_date   sex  \\\n",
            "0   1    miguel hernandez  miguel    hernandez            2013-08-14  Male   \n",
            "1   3         kevon dixon   kevon        dixon            2013-01-27  Male   \n",
            "2   4            ed philo      ed        philo            2013-04-14  Male   \n",
            "3   5         marcu brown   marcu        brown            2013-01-13  Male   \n",
            "4   6  bouthy pierrelouis  bouthy  pierrelouis            2013-03-26  Male   \n",
            "\n",
            "          dob  age          age_cat              race  ...  v_decile_score  \\\n",
            "0  1947-04-18   69  Greater than 45             Other  ...               1   \n",
            "1  1982-01-22   34          25 - 45  African-American  ...               1   \n",
            "2  1991-05-14   24     Less than 25  African-American  ...               3   \n",
            "3  1993-01-21   23     Less than 25  African-American  ...               6   \n",
            "4  1973-01-22   43          25 - 45             Other  ...               1   \n",
            "\n",
            "   v_score_text  v_screening_date  in_custody  out_custody  priors_count.1  \\\n",
            "0           Low        2013-08-14  2014-07-07   2014-07-14               0   \n",
            "1           Low        2013-01-27  2013-01-26   2013-02-05               0   \n",
            "2           Low        2013-04-14  2013-06-16   2013-06-16               4   \n",
            "3        Medium        2013-01-13         NaN          NaN               1   \n",
            "4           Low        2013-03-26         NaN          NaN               2   \n",
            "\n",
            "  start   end event two_year_recid  \n",
            "0     0   327     0              0  \n",
            "1     9   159     1              1  \n",
            "2     0    63     0              1  \n",
            "3     0  1174     0              0  \n",
            "4     0  1102     0              0  \n",
            "\n",
            "[5 rows x 53 columns]\n"
          ]
        }
      ],
      "source": [
        "# Compasデータセットのダウンロード\n",
        "!wget https://raw.githubusercontent.com/propublica/compas-analysis/master/compas-scores-two-years.csv\n",
        "\n",
        "# pandasでデータを読み込む\n",
        "data = pd.read_csv(\"compas-scores-two-years.csv\")\n",
        "\n",
        "# データの最初の5行を表示して確認\n",
        "print(data.head())\n"
      ]
    },
    {
      "cell_type": "code",
      "execution_count": 5,
      "metadata": {
        "id": "YTYUXj5yHIXY"
      },
      "outputs": [],
      "source": []
    },
    {
      "cell_type": "code",
      "execution_count": 6,
      "metadata": {
        "colab": {
          "base_uri": "https://localhost:8080/"
        },
        "id": "6g8a6eMCxrbm",
        "outputId": "20955fc4-1803-496d-b727-e71e1588ccdb"
      },
      "outputs": [
        {
          "output_type": "stream",
          "name": "stdout",
          "text": [
            "NaNを含む列: ['days_b_screening_arrest', 'c_jail_in', 'c_jail_out', 'c_case_number', 'c_offense_date', 'c_arrest_date', 'c_days_from_compas', 'c_charge_desc', 'r_case_number', 'r_charge_degree', 'r_days_from_arrest', 'r_offense_date', 'r_charge_desc', 'r_jail_in', 'r_jail_out', 'violent_recid', 'vr_case_number', 'vr_charge_degree', 'vr_offense_date', 'vr_charge_desc', 'in_custody', 'out_custody']\n"
          ]
        }
      ],
      "source": [
        "# データ（特徴量）をPandasのデータフレームに変換\n",
        "df_data = data\n",
        "# ターゲット（ラベル）を別に保存\n",
        "target = data['two_year_recid']\n",
        "\n",
        "#NaNを含むColumn名\n",
        "nan_columns = df_data.columns[df_data.isnull().any()].tolist()\n",
        "print(\"NaNを含む列:\", nan_columns)\n",
        "\n",
        "\n",
        "#欠損値がある行を削除\n",
        "df_data = data.dropna()\n",
        "# 不要な列を削除（例：idなど）\n",
        "df_data = data.drop(columns=['id', 'first','last','start','end','event'], axis=1)\n",
        "df_data = df_data.drop(nan_columns, axis=1)\n",
        "\n",
        "\n",
        "df_encoded = pd.get_dummies(df_data)\n",
        "\n",
        "# ターゲット（ラベル）をOne-Hot Encoding後のデータフレームに追加\n",
        "df_encoded['target'] = target\n",
        "\n",
        "X = df_encoded.drop(['two_year_recid','is_recid','is_violent_recid','target'], axis=1)  # 特徴量\n",
        "\n",
        "y = df_encoded['target'] if 'target' in df_encoded.columns else df_data['target']  # 'target'が存在する場合のみ取得\n",
        "\n"
      ]
    },
    {
      "cell_type": "code",
      "execution_count": 6,
      "metadata": {
        "id": "5uuemW8n0JTD"
      },
      "outputs": [],
      "source": []
    },
    {
      "cell_type": "code",
      "execution_count": 40,
      "metadata": {
        "id": "_zi5FukVK4NY"
      },
      "outputs": [],
      "source": [
        "# 訓練セットとテストセットに分割\n",
        "# (課題1)50％をテストデータとして分けた\n",
        "X_train_val, X_test, y_train_val, y_test = train_test_split(X, y,test_size=0.5, random_state=42)\n",
        "\n",
        "# 残り50%から25%を検証データにする（全体の15%）\n",
        "X_train, X_val, y_train, y_val = train_test_split(X_train_val, y_train_val, test_size = 0.50, random_state=42)\n",
        "\n",
        "# データの標準化\n",
        "\n",
        "scaler = StandardScaler()\n",
        "\n",
        "# 訓練データに対して平均と標準偏差を計算し、それで変換する\n",
        "X_train = scaler.fit_transform(X_train)\n",
        "# 訓練データで計算した基準（平均.標準偏差）を使って検証データとテストデータも同じように整える\n",
        "X_val = scaler.fit_transform(X_val)\n",
        "X_test = scaler.transform(X_test)"
      ]
    },
    {
      "cell_type": "code",
      "execution_count": 7,
      "metadata": {
        "id": "L37ANqSWDmE9"
      },
      "outputs": [],
      "source": []
    },
    {
      "cell_type": "code",
      "execution_count": 41,
      "metadata": {
        "id": "WbYZfMkp6PO0"
      },
      "outputs": [],
      "source": [
        "# NumPy配列からPyTorchのテンソルに変換\n",
        "X_train_tensor = torch.tensor(X_train, dtype=torch.float32)\n",
        "y_train_tensor = torch.tensor(y_train.values, dtype=torch.long)  # 二値分類の場合、ラベルはlong型\n"
      ]
    },
    {
      "cell_type": "code",
      "execution_count": 42,
      "metadata": {
        "id": "ch9cuGvt7Zfo"
      },
      "outputs": [],
      "source": [
        "X_val_tensor = torch.tensor(X_val, dtype=torch.float32)\n",
        "y_val_tensor = torch.tensor(y_val.values, dtype=torch.long)\n",
        "\n",
        "\n",
        "X_test_tensor = torch.tensor(X_test, dtype=torch.float32)\n",
        "y_test_tensor = torch.tensor(y_test.values, dtype=torch.long)"
      ]
    },
    {
      "cell_type": "code",
      "execution_count": 9,
      "metadata": {
        "id": "ynYvSxUTQFun"
      },
      "outputs": [],
      "source": []
    },
    {
      "cell_type": "code",
      "execution_count": 9,
      "metadata": {
        "id": "PUO_fzZSTKwB"
      },
      "outputs": [],
      "source": []
    },
    {
      "cell_type": "code",
      "execution_count": 43,
      "metadata": {
        "id": "9yDVW9iW0m3v"
      },
      "outputs": [],
      "source": [
        "class CompasDataset:\n",
        "    def __init__(self, features, labels):\n",
        "        self.features = features\n",
        "        self.labels = labels\n",
        "\n",
        "    def __len__(self):\n",
        "        return len(self.labels)\n",
        "\n",
        "    def __getitem__(self, idx):\n",
        "        return self.features[idx], self.labels[idx]"
      ]
    },
    {
      "cell_type": "code",
      "execution_count": 44,
      "metadata": {
        "colab": {
          "base_uri": "https://localhost:8080/"
        },
        "id": "1mQ7suUpPaH_",
        "outputId": "363d42e6-9853-4ea2-88e2-53b0a8d77e0d"
      },
      "outputs": [
        {
          "output_type": "stream",
          "name": "stdout",
          "text": [
            "<__main__.CompasDataset object at 0x79478d14ae50>\n"
          ]
        }
      ],
      "source": [
        "batch_size = 128\n",
        "train_dataset = CompasDataset(X_train_tensor, y_train_tensor)\n",
        "val_dataset = CompasDataset(X_val_tensor, y_val_tensor)\n",
        "test_dataset = CompasDataset(X_test_tensor, y_test_tensor)\n",
        "# データローダーの作成\n",
        "train_loader = DataLoader(train_dataset, batch_size=batch_size, shuffle=True)\n",
        "val_loader = DataLoader(val_dataset, batch_size=batch_size, shuffle=False)\n",
        "test_loader = DataLoader(test_dataset, batch_size=batch_size, shuffle=False)\n",
        "\n",
        "print(train_dataset)"
      ]
    },
    {
      "cell_type": "code",
      "execution_count": 45,
      "metadata": {
        "id": "tDVdF4gZ0fvq"
      },
      "outputs": [],
      "source": [
        "class CompasDataset:\n",
        "    def __init__(self, features, labels):\n",
        "        self.features = features\n",
        "        self.labels = labels  # Assign labels directly instead of calling .values\n",
        "\n",
        "    def __len__(self):\n",
        "        return len(self.labels)\n",
        "\n",
        "    def __getitem__(self, idx):\n",
        "        return self.features[idx], self.labels[idx] # Access elements using indexing"
      ]
    },
    {
      "cell_type": "code",
      "execution_count": 46,
      "metadata": {
        "colab": {
          "base_uri": "https://localhost:8080/"
        },
        "id": "iPbynTvRoN9j",
        "outputId": "384c4cb5-212d-49a3-a21c-c7a5163f69ca"
      },
      "outputs": [
        {
          "output_type": "stream",
          "name": "stdout",
          "text": [
            "14710\n"
          ]
        }
      ],
      "source": [
        "length=len(X.columns)\n",
        "print(length)"
      ]
    },
    {
      "cell_type": "code",
      "execution_count": 64,
      "metadata": {
        "colab": {
          "base_uri": "https://localhost:8080/"
        },
        "id": "LxiGClK2PaIA",
        "outputId": "f798630a-d92e-482f-abf0-c163c5aab51a"
      },
      "outputs": [
        {
          "output_type": "stream",
          "name": "stdout",
          "text": [
            "Using cuda device\n",
            "NeuralNetwork(\n",
            "  (flatten): Flatten(start_dim=1, end_dim=-1)\n",
            "  (linear_relu_stack): Sequential(\n",
            "    (0): Linear(in_features=14710, out_features=128, bias=True)\n",
            "    (1): Sigmoid()\n",
            "    (2): Linear(in_features=128, out_features=2, bias=True)\n",
            "  )\n",
            ")\n"
          ]
        }
      ],
      "source": [
        "# 訓練に際して、可能であればGPU（cuda）を設定します。GPUが搭載されていない場合はCPUを使用します\n",
        "device = \"cuda\" if torch.cuda.is_available() else \"cpu\"\n",
        "print(\"Using {} device\".format(device))\n",
        "\n",
        "# modelを定義します\n",
        "class NeuralNetwork(nn.Module):\n",
        "    def __init__(self):\n",
        "        super(NeuralNetwork, self).__init__()\n",
        "        self.flatten = nn.Flatten()\n",
        "        self.linear_relu_stack = nn.Sequential(\n",
        "            nn.Linear(14710, 128),\n",
        "            # 活性化関数をrelu関数からsigmoid関数に変更した\n",
        "            nn.Sigmoid(),\n",
        "            nn.Linear(128,2)\n",
        "        )\n",
        "    def forward(self, x):\n",
        "        x = self.flatten(x)\n",
        "        logits = self.linear_relu_stack(x)\n",
        "        a=nn.Softmax(dim=1)\n",
        "        b=a(logits)\n",
        "        return b\n",
        "\n",
        "\n",
        "model = NeuralNetwork().to(device)\n",
        "print(model)"
      ]
    },
    {
      "cell_type": "code",
      "execution_count": 65,
      "metadata": {
        "colab": {
          "base_uri": "https://localhost:8080/"
        },
        "id": "c-rtD5ODZLFS",
        "outputId": "6c3a864e-71a5-41bc-856a-99f78c0b2041"
      },
      "outputs": [
        {
          "output_type": "stream",
          "name": "stdout",
          "text": [
            "linear_relu_stack.0.weight: mean=4.3785394154838286e-07, std=0.0047621880657970905\n",
            "linear_relu_stack.0.bias: mean=0.0011666000355035067, std=0.0047414181753993034\n",
            "linear_relu_stack.2.weight: mean=0.0009070867672562599, std=0.05075123533606529\n",
            "linear_relu_stack.2.bias: mean=-0.011439661495387554, std=0.016111142933368683\n"
          ]
        }
      ],
      "source": [
        "for name, param in model.named_parameters():\n",
        "    print(f\"{name}: mean={param.data.mean().item()}, std={param.data.std().item()}\")"
      ]
    },
    {
      "cell_type": "code",
      "execution_count": 66,
      "metadata": {
        "id": "iUhxZFrWPaIB"
      },
      "outputs": [],
      "source": [
        "loss_fn = nn.CrossEntropyLoss()\n",
        "optimizer = torch.optim.SGD(model.parameters(), lr=1e-2)"
      ]
    },
    {
      "cell_type": "code",
      "execution_count": 33,
      "metadata": {
        "id": "71P137ofZj9s"
      },
      "outputs": [],
      "source": []
    },
    {
      "cell_type": "code",
      "execution_count": 67,
      "metadata": {
        "id": "dnqyJyp9PaIC"
      },
      "outputs": [],
      "source": [
        "def train(dataloader, model, loss_fn, optimizer):\n",
        "    size = len(dataloader.dataset)\n",
        "    for batch, (X, y) in enumerate(dataloader):\n",
        "        X, y = X.to(device), y.to(device)\n",
        "        # 損失誤差を計算\n",
        "        pred = model(X)\n",
        "        #print(pred)\n",
        "        loss = loss_fn(pred, y)\n",
        "\n",
        "        # バックプロパゲーション\n",
        "        optimizer.zero_grad()\n",
        "        loss.backward()\n",
        "        optimizer.step()\n",
        "\n",
        "        if batch % 10 == 0:\n",
        "            loss, current = loss.item(), batch * len(X)\n",
        "            print(f\"loss: {loss:>7f}  [{current:>5d}/{size:>5d}]\")"
      ]
    },
    {
      "cell_type": "code",
      "execution_count": 68,
      "metadata": {
        "id": "OxUT7hOJPaID"
      },
      "outputs": [],
      "source": [
        "def test(dataloader, model):\n",
        "    size = len(dataloader.dataset)\n",
        "    model.eval()\n",
        "    avg_loss, accuracy = 0, 0\n",
        "    with torch.no_grad():\n",
        "        for X, y in dataloader:\n",
        "            X, y = X.to(device), y.to(device)\n",
        "            pred = model(X)\n",
        "            avg_loss += loss_fn(pred, y).item()\n",
        "            accuracy += (pred.argmax(1) == y).type(torch.float).sum().item()\n",
        "    avg_loss /= size\n",
        "    accuracy /= size\n",
        "    return avg_loss, accuracy\n"
      ]
    },
    {
      "cell_type": "code",
      "source": [
        "epochs = 100\n",
        "patience = 5\n",
        "best_val_loss = float(\"inf\")\n",
        "patience_counter = 0"
      ],
      "metadata": {
        "id": "f-ZBzI79gcvb"
      },
      "execution_count": 69,
      "outputs": []
    },
    {
      "cell_type": "code",
      "execution_count": null,
      "metadata": {
        "colab": {
          "base_uri": "https://localhost:8080/"
        },
        "id": "UklgW5aBPaIF",
        "outputId": "cc095dc2-cefb-4182-b24b-58eea11278e1"
      },
      "outputs": [
        {
          "output_type": "stream",
          "name": "stdout",
          "text": [
            "Epoch 1\n",
            "-------------------------------\n",
            "loss: 0.329694  [    0/ 5051]\n",
            "loss: 0.327372  [ 1280/ 5051]\n",
            "loss: 0.328545  [ 2560/ 5051]\n",
            "loss: 0.327886  [ 3840/ 5051]\n",
            "Val Error: \n",
            " Accuracy: 68.8%, Val loss: 0.005004 \n",
            "\n",
            "Epoch 2\n",
            "-------------------------------\n",
            "loss: 0.328559  [    0/ 5051]\n",
            "loss: 0.328076  [ 1280/ 5051]\n",
            "loss: 0.328416  [ 2560/ 5051]\n",
            "loss: 0.329243  [ 3840/ 5051]\n",
            "Val Error: \n",
            " Accuracy: 68.8%, Val loss: 0.005004 \n",
            "\n",
            "Epoch 3\n",
            "-------------------------------\n",
            "loss: 0.328858  [    0/ 5051]\n",
            "loss: 0.326754  [ 1280/ 5051]\n",
            "loss: 0.327310  [ 2560/ 5051]\n",
            "loss: 0.329002  [ 3840/ 5051]\n",
            "Val Error: \n",
            " Accuracy: 68.8%, Val loss: 0.005004 \n",
            "\n",
            "Epoch 4\n",
            "-------------------------------\n",
            "loss: 0.327610  [    0/ 5051]\n",
            "loss: 0.327627  [ 1280/ 5051]\n",
            "loss: 0.326722  [ 2560/ 5051]\n",
            "loss: 0.327334  [ 3840/ 5051]\n",
            "Val Error: \n",
            " Accuracy: 68.8%, Val loss: 0.005003 \n",
            "\n",
            "Epoch 5\n",
            "-------------------------------\n",
            "loss: 0.327885  [    0/ 5051]\n",
            "loss: 0.328101  [ 1280/ 5051]\n",
            "loss: 0.326851  [ 2560/ 5051]\n",
            "loss: 0.327391  [ 3840/ 5051]\n",
            "Val Error: \n",
            " Accuracy: 68.8%, Val loss: 0.005002 \n",
            "\n",
            "Epoch 6\n",
            "-------------------------------\n",
            "loss: 0.326334  [    0/ 5051]\n",
            "loss: 0.327587  [ 1280/ 5051]\n",
            "loss: 0.327543  [ 2560/ 5051]\n",
            "loss: 0.327200  [ 3840/ 5051]\n",
            "Val Error: \n",
            " Accuracy: 68.8%, Val loss: 0.005002 \n",
            "\n",
            "Epoch 7\n",
            "-------------------------------\n",
            "loss: 0.326821  [    0/ 5051]\n",
            "loss: 0.325780  [ 1280/ 5051]\n",
            "loss: 0.327736  [ 2560/ 5051]\n",
            "loss: 0.327114  [ 3840/ 5051]\n",
            "Val Error: \n",
            " Accuracy: 68.8%, Val loss: 0.005002 \n",
            "\n",
            "Epoch 8\n",
            "-------------------------------\n",
            "loss: 0.325993  [    0/ 5051]\n",
            "loss: 0.327436  [ 1280/ 5051]\n",
            "loss: 0.325652  [ 2560/ 5051]\n",
            "loss: 0.326537  [ 3840/ 5051]\n",
            "Val Error: \n",
            " Accuracy: 68.8%, Val loss: 0.005001 \n",
            "\n",
            "Epoch 9\n",
            "-------------------------------\n",
            "loss: 0.326785  [    0/ 5051]\n",
            "loss: 0.326627  [ 1280/ 5051]\n",
            "loss: 0.326489  [ 2560/ 5051]\n",
            "loss: 0.326075  [ 3840/ 5051]\n"
          ]
        }
      ],
      "source": [
        "\n",
        "for t in range(epochs):\n",
        "    print(f\"Epoch {t+1}\\n-------------------------------\")\n",
        "    train(train_loader, model, loss_fn, optimizer)\n",
        "    val_loss, val_accuracy = test(val_loader, model)\n",
        "    print(f\"Val Error: \\n Accuracy: {(100*val_accuracy):>0.1f}%, Val loss: {val_loss:>8f} \\n\")\n",
        "\n",
        "# 最良のモデルを保存&EarlyStopping\n",
        "    if val_loss < best_val_loss:\n",
        "        best_val_loss = val_loss\n",
        "        patience_counter = 0\n",
        "\n",
        "        best_model_state = copy.deepcopy(model.state_dict())\n",
        "    # 検証損失が改善しなかった回数がpatience回を超えたら学習を終了\n",
        "    else:\n",
        "        patience_counter += 1\n",
        "    if patience_counter >= patience:\n",
        "      print(\"Early stopping triggered!\")\n",
        "      break\n",
        "\n",
        "print(\"Done!\")\n",
        "\n",
        "# 未知のテストデータでモデル学習、最終的な精度と損失を表示します\n",
        "test_loss, test_accuracy = test(test_loader, model)\n",
        "print(f\"Test Error: \\n Accuracy: {(100*test_accuracy):>0.1f}%, Val loss: {test_loss:>8f} \\n\")\n"
      ]
    },
    {
      "cell_type": "code",
      "execution_count": 38,
      "metadata": {
        "id": "S4r6aK92dyHA"
      },
      "outputs": [],
      "source": [
        "y_pred = model(X_test_tensor.to(device)).argmax(1)"
      ]
    },
    {
      "cell_type": "code",
      "execution_count": 39,
      "metadata": {
        "colab": {
          "base_uri": "https://localhost:8080/",
          "height": 614
        },
        "id": "KOq-mg2y-oFH",
        "outputId": "924297a6-9be1-4389-cecb-ee3f0713afc0"
      },
      "outputs": [
        {
          "output_type": "stream",
          "name": "stdout",
          "text": [
            "              precision    recall  f1-score   support\n",
            "\n",
            "           0      0.632     0.934     0.754       823\n",
            "           1      0.761     0.277     0.407       620\n",
            "\n",
            "    accuracy                          0.652      1443\n",
            "   macro avg      0.696     0.606     0.580      1443\n",
            "weighted avg      0.687     0.652     0.605      1443\n",
            "\n"
          ]
        },
        {
          "output_type": "execute_result",
          "data": {
            "text/plain": [
              "<Axes: >"
            ]
          },
          "metadata": {},
          "execution_count": 39
        },
        {
          "output_type": "display_data",
          "data": {
            "text/plain": [
              "<Figure size 640x480 with 2 Axes>"
            ],
            "image/png": "[encoded data removed]"
          },
          "metadata": {}
        }
      ],
      "source": [
        "# テスト用データで予測値を生成する\n",
        "\n",
        "# テスト用データで予測した結果のclassfication_reportを表示する\n",
        "from sklearn.metrics import classification_report\n",
        "\n",
        "# classfication_reportを表示\n",
        "print(classification_report(y_test_tensor.cpu(),y_pred.cpu(),digits=3))\n",
        "\n",
        "# 混同行列を作成してseabornで表示する\n",
        "from sklearn.metrics import confusion_matrix\n",
        "import seaborn as sns\n",
        "# 混同行列を表示\n",
        "cm = confusion_matrix(y_test_tensor.cpu(),y_pred.cpu())\n",
        "sns.heatmap(cm, annot=True, cmap='Blues')\n"
      ]
    },
    {
      "cell_type": "code",
      "source": [],
      "metadata": {
        "id": "ftPB4qVppx8p"
      },
      "execution_count": 22,
      "outputs": []
    }
  ],
  "metadata": {
    "colab": {
      "provenance": [],
      "gpuType": "T4"
    },
    "kernelspec": {
      "display_name": "Python 3",
      "name": "python3"
    },
    "language_info": {
      "name": "python"
    },
    "accelerator": "GPU"
  },
  "nbformat": 4,
  "nbformat_minor": 0
}