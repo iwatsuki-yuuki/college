{
  "nbformat": 4,
  "nbformat_minor": 0,
  "metadata": {
    "colab": {
      "provenance": [],
      "include_colab_link": true
    },
    "kernelspec": {
      "name": "python3",
      "display_name": "Python 3"
    },
    "language_info": {
      "name": "python"
    }
  },
  "cells": [
    {
      "cell_type": "markdown",
      "metadata": {
        "id": "view-in-github",
        "colab_type": "text"
      },
      "source": [
        "<a href=\"https://colab.research.google.com/github/iwatsuki-yuuki/college/blob/main/3_Generate_timeseries_3classes.ipynb\" target=\"_parent\"><img src=\"https://colab.research.google.com/assets/colab-badge.svg\" alt=\"Open In Colab\"/></a>"
      ]
    },
    {
      "cell_type": "markdown",
      "source": [
        "3クラス分類用のデータを作ってみよう。"
      ],
      "metadata": {
        "id": "f5hii4jsgaVG"
      }
    },
    {
      "cell_type": "code",
      "execution_count": 1,
      "metadata": {
        "id": "ZDlQqblJgUo7"
      },
      "outputs": [],
      "source": [
        "import numpy as np\n",
        "\n",
        "def generate_signal(length=1000, sampling_interval=0.01, frequency_list=[1, 3, 5, 7, 9, 11], noise_params=(0, 0.1)):\n",
        "    signal = np.array([])\n",
        "    frequencies = np.array([])\n",
        "    times = np.array([])\n",
        "\n",
        "    time_pointer = 0.0\n",
        "\n",
        "    while signal.size < length:\n",
        "        segment_length = np.random.uniform(0.05, 0.1) * length  # セグメント長S\n",
        "        frequency = np.random.choice(frequency_list)  # 周波数F\n",
        "\n",
        "        # セグメントの時間軸を生成\n",
        "        time_segment = np.arange(0, segment_length) * sampling_interval\n",
        "        # セグメントのサイン波を生成\n",
        "        sine_wave = np.sin(2 * np.pi * frequency * time_segment)\n",
        "\n",
        "        # 信号にサイン波のセグメントを追加（Lを超えないように調整）\n",
        "        signal = np.append(signal, sine_wave)[:length]\n",
        "\n",
        "        # 周波数の系列データを更新\n",
        "        frequencies = np.append(frequencies, np.full(sine_wave.size, frequency))[:length]\n",
        "\n",
        "        # timestampを更新\n",
        "        time_segment = time_segment.tolist()\n",
        "        time_segment_shift = [num + time_pointer for num in time_segment]\n",
        "        time_segment_shift = np.array(time_segment_shift)\n",
        "        times = np.append(times, time_segment_shift)[:length]\n",
        "\n",
        "        time_pointer = time_segment_shift[-1] + sampling_interval\n",
        "\n",
        "\n",
        "    # ガウスノイズを加える\n",
        "    if noise_params is not None:\n",
        "        mean, stddev = noise_params\n",
        "        noise = np.random.normal(mean, stddev, signal.size)\n",
        "        signal += noise\n",
        "\n",
        "    return signal, frequencies, times"
      ]
    },
    {
      "cell_type": "code",
      "source": [
        "# この３パターンで作ってみよう\n",
        "\n",
        "#frequency_list1=[1, 3, 5, 7, 11], frequency_list2=[3, 5, 9, 11, 13], frequency_list2=[1, 5, 9, 11, 13]\n",
        "\n",
        "#クラスラベルはintで付ければよい\n",
        "#class_labels.append(0)\n",
        "#class_labels.append(1)\n",
        "#class_labels.append(2)\n"
      ],
      "metadata": {
        "id": "oQZvpNT2gjKK"
      },
      "execution_count": 2,
      "outputs": []
    },
    {
      "cell_type": "markdown",
      "source": [
        "ptファイルとpickleファイルで保存してみよう。（両方ptでもいい）"
      ],
      "metadata": {
        "id": "ZQz4U1cKhBTG"
      }
    },
    {
      "cell_type": "markdown",
      "source": [
        "作成した信号をgoogle driveに保存するためアクセス権を与える"
      ],
      "metadata": {
        "id": "mRPZYvJKpZFB"
      }
    },
    {
      "cell_type": "code",
      "execution_count": 3,
      "metadata": {
        "id": "qY4t489epqX1",
        "outputId": "ed80b7cb-05c4-405d-f374-cdcfd761904a",
        "colab": {
          "base_uri": "https://localhost:8080/"
        }
      },
      "outputs": [
        {
          "output_type": "stream",
          "name": "stdout",
          "text": [
            "Mounted at /content/drive\n"
          ]
        }
      ],
      "source": [
        "from google.colab import drive\n",
        "drive.mount('/content/drive')"
      ]
    },
    {
      "cell_type": "markdown",
      "source": [
        "このノートブックがあるパスを記入"
      ],
      "metadata": {
        "id": "LGrs_rF3pRP3"
      }
    },
    {
      "cell_type": "code",
      "execution_count": 4,
      "metadata": {
        "id": "Z8seBF1utanV"
      },
      "outputs": [],
      "source": [
        "current_dir = '/content/drive/My Drive'"
      ]
    },
    {
      "cell_type": "code",
      "execution_count": 5,
      "metadata": {
        "id": "bHmEvf7Nt730",
        "outputId": "ded8067f-ccb8-483e-cd80-46f29511f447",
        "colab": {
          "base_uri": "https://localhost:8080/"
        }
      },
      "outputs": [
        {
          "output_type": "stream",
          "name": "stdout",
          "text": [
            "/content/drive/My Drive\n"
          ]
        }
      ],
      "source": [
        "import sys\n",
        "\n",
        "sys.path.append(current_dir)\n",
        "%cd $current_dir"
      ]
    },
    {
      "cell_type": "code",
      "source": [
        "import os\n",
        "dataset_dir = \"./artificial_3class_dataset\"\n",
        "os.makedirs(dataset_dir, exist_ok=True)"
      ],
      "metadata": {
        "id": "GbxUxC0cqKG0"
      },
      "execution_count": 7,
      "outputs": []
    },
    {
      "cell_type": "code",
      "source": [],
      "metadata": {
        "id": "hle4MLPkhtCt"
      },
      "execution_count": null,
      "outputs": []
    }
  ]
}