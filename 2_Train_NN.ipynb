{
  "nbformat": 4,
  "nbformat_minor": 0,
  "metadata": {
    "colab": {
      "provenance": [],
      "gpuType": "T4",
      "include_colab_link": true
    },
    "kernelspec": {
      "name": "python3",
      "display_name": "Python 3"
    },
    "language_info": {
      "name": "python"
    },
    "accelerator": "GPU"
  },
  "cells": [
    {
      "cell_type": "markdown",
      "metadata": {
        "id": "view-in-github",
        "colab_type": "text"
      },
      "source": [
        "<a href=\"https://colab.research.google.com/github/iwatsuki-yuuki/college/blob/main/2_Train_NN.ipynb\" target=\"_parent\"><img src=\"https://colab.research.google.com/assets/colab-badge.svg\" alt=\"Open In Colab\"/></a>"
      ]
    },
    {
      "cell_type": "markdown",
      "source": [
        "注）ランタイムをCPU以外に設定する"
      ],
      "metadata": {
        "id": "AtdfzQqxqT_g"
      }
    },
    {
      "cell_type": "code",
      "source": [
        "import torch\n",
        "\n",
        "if not torch.cuda.is_available():\n",
        "    raise ValueError(\"Change notebook runtime to GPU !\")"
      ],
      "metadata": {
        "id": "DdoXW7uEhGcN"
      },
      "execution_count": 1,
      "outputs": []
    },
    {
      "cell_type": "markdown",
      "source": [
        "# 保存したデータを読み出す"
      ],
      "metadata": {
        "id": "FPvDG1ib09_f"
      }
    },
    {
      "cell_type": "code",
      "execution_count": 2,
      "metadata": {
        "id": "qY4t489epqX1",
        "outputId": "4ad0d76b-6411-42fa-964f-da10c5a80251",
        "colab": {
          "base_uri": "https://localhost:8080/"
        }
      },
      "outputs": [
        {
          "output_type": "stream",
          "name": "stdout",
          "text": [
            "Mounted at /content/drive\n"
          ]
        }
      ],
      "source": [
        "from google.colab import drive\n",
        "drive.mount('/content/drive')"
      ]
    },
    {
      "cell_type": "markdown",
      "source": [
        "このノートブックがあるパスを記入"
      ],
      "metadata": {
        "id": "LGrs_rF3pRP3"
      }
    },
    {
      "cell_type": "code",
      "execution_count": 3,
      "metadata": {
        "id": "Z8seBF1utanV"
      },
      "outputs": [],
      "source": [
        "current_dir = '/content/drive/MyDrive/Colab Notebooks'"
      ]
    },
    {
      "cell_type": "code",
      "execution_count": 5,
      "metadata": {
        "id": "bHmEvf7Nt730",
        "outputId": "0c04652b-9211-4afa-a0e6-c394910ca823",
        "colab": {
          "base_uri": "https://localhost:8080/"
        }
      },
      "outputs": [
        {
          "output_type": "stream",
          "name": "stdout",
          "text": [
            "/content/drive/MyDrive/Colab Notebooks\n"
          ]
        }
      ],
      "source": [
        "import sys\n",
        "\n",
        "sys.path.append(current_dir)\n",
        "%cd $current_dir"
      ]
    },
    {
      "cell_type": "code",
      "source": [
        "import os\n",
        "dataset_dir = \"./artificial_dataset\""
      ],
      "metadata": {
        "id": "GbxUxC0cqKG0"
      },
      "execution_count": 6,
      "outputs": []
    },
    {
      "cell_type": "code",
      "source": [
        "train_data_path = os.path.join(dataset_dir, \"train_data.pt\")\n",
        "train_label_path = os.path.join(dataset_dir, \"train_label.pickle\")\n",
        "test_data_path = os.path.join(dataset_dir, \"test_data.pt\")\n",
        "test_label_path = os.path.join(dataset_dir, \"test_label.pickle\")"
      ],
      "metadata": {
        "id": "brRVy_qJqzui"
      },
      "execution_count": 7,
      "outputs": []
    },
    {
      "cell_type": "markdown",
      "source": [
        "保存したデータを読み込む自作のDataSetを作る<br>"
      ],
      "metadata": {
        "id": "JmjVGUNwvPat"
      }
    },
    {
      "cell_type": "code",
      "source": [
        "import torch\n",
        "import pickle\n",
        "\n",
        "class MyDataset(torch.utils.data.Dataset):\n",
        "    def __init__(self, data_path, label_path):\n",
        "        self._signals = torch.load(data_path)\n",
        "        with open(label_path, mode='br') as fi:\n",
        "          self._labels = pickle.load(fi)\n",
        "\n",
        "    def __len__(self):\n",
        "        return len(self._signals)\n",
        "\n",
        "    def __getitem__(self, idx):\n",
        "        return self._signals[idx], self._labels[idx]"
      ],
      "metadata": {
        "id": "_r5xJW-4vO88"
      },
      "execution_count": 8,
      "outputs": []
    },
    {
      "cell_type": "code",
      "source": [
        "train_dataset = MyDataset(train_data_path, train_label_path)"
      ],
      "metadata": {
        "id": "tbO3AFKZwUg1"
      },
      "execution_count": 9,
      "outputs": []
    },
    {
      "cell_type": "code",
      "source": [
        "val_dataset = MyDataset(test_data_path, test_label_path)"
      ],
      "metadata": {
        "id": "5mj0-H__wbh_"
      },
      "execution_count": 10,
      "outputs": []
    },
    {
      "cell_type": "markdown",
      "source": [
        "DataLoaderを作成<br>\n",
        "https://pytorch.org/docs/stable/data.html#torch.utils.data.DataLoader"
      ],
      "metadata": {
        "id": "UZehHU4ZxRjX"
      }
    },
    {
      "cell_type": "code",
      "source": [
        "train_loader= torch.utils.data.DataLoader(\n",
        "        train_dataset,\n",
        "        batch_size=32,\n",
        "        drop_last=True,\n",
        "        shuffle=True\n",
        "    )\n",
        "\n",
        "val_loader= torch.utils.data.DataLoader(\n",
        "        val_dataset,\n",
        "        batch_size=32,\n",
        "        drop_last=False,\n",
        "        shuffle=False\n",
        "    )"
      ],
      "metadata": {
        "id": "qP9lIl7-xNa4"
      },
      "execution_count": 11,
      "outputs": []
    },
    {
      "cell_type": "markdown",
      "source": [
        "試しに回してみる"
      ],
      "metadata": {
        "id": "rnK_AWrRxg-X"
      }
    },
    {
      "cell_type": "code",
      "source": [
        "for windows, labels in train_loader:\n",
        "    print(windows.shape, len(labels))"
      ],
      "metadata": {
        "id": "CXwDiIMsxQyk",
        "outputId": "ebb67b35-bf57-4cd8-8f07-cf6dcc319edd",
        "colab": {
          "base_uri": "https://localhost:8080/"
        }
      },
      "execution_count": 12,
      "outputs": [
        {
          "output_type": "stream",
          "name": "stdout",
          "text": [
            "torch.Size([32, 1000, 1]) 32\n",
            "torch.Size([32, 1000, 1]) 32\n",
            "torch.Size([32, 1000, 1]) 32\n",
            "torch.Size([32, 1000, 1]) 32\n",
            "torch.Size([32, 1000, 1]) 32\n",
            "torch.Size([32, 1000, 1]) 32\n"
          ]
        }
      ]
    },
    {
      "cell_type": "markdown",
      "source": [
        "# 学習する"
      ],
      "metadata": {
        "id": "qB_s_Z3E08Im"
      }
    },
    {
      "cell_type": "code",
      "source": [
        "import torch.nn as nn\n",
        "import torch.optim as optim\n",
        "\n",
        "input_dim = 1\n",
        "hidden_dim = 8\n",
        "output_dim = 1\n",
        "learning_rate = 0.001\n",
        "epochs = 1000 #大きくしすぎるとGPU使用制限に引っかかるので注意"
      ],
      "metadata": {
        "id": "ezVs-bPu1H6G"
      },
      "execution_count": 13,
      "outputs": []
    },
    {
      "cell_type": "markdown",
      "source": [
        "モデルの定義<br>\n",
        "https://pytorch.org/docs/stable/generated/torch.nn.LSTM.html\n",
        "<br>\n",
        "https://pytorch.org/docs/stable/generated/torch.nn.Linear.html"
      ],
      "metadata": {
        "id": "bNFoWBC2psEC"
      }
    },
    {
      "cell_type": "code",
      "source": [
        "class LSTMClassifier(nn.Module):\n",
        "    def __init__(self, input_dim, hidden_dim, output_dim=1):\n",
        "        super(LSTMClassifier, self).__init__()\n",
        "        self.lstm = nn.LSTM(input_dim, hidden_dim, batch_first=True)\n",
        "        self.fc = nn.Linear(hidden_dim, output_dim)\n",
        "\n",
        "    def forward(self, x):\n",
        "        _, (h_n, _) = self.lstm(x)\n",
        "        h_n = h_n.squeeze(0)  # (batch_size, hidden_dim)\n",
        "        out = self.fc(h_n)\n",
        "        return torch.sigmoid(out)"
      ],
      "metadata": {
        "id": "WPp53_hEpjlU"
      },
      "execution_count": 14,
      "outputs": []
    },
    {
      "cell_type": "code",
      "source": [
        "device = torch.device('cuda:0') if torch.cuda.is_available() else torch.device('cpu')\n",
        "\n",
        "model = LSTMClassifier(input_dim, hidden_dim, output_dim)\n",
        "model.to(device)\n",
        "criterion = nn.BCELoss()\n",
        "optimizer = optim.Adam(model.parameters(), lr=learning_rate)"
      ],
      "metadata": {
        "id": "XAyt-g5fpkon"
      },
      "execution_count": 15,
      "outputs": []
    },
    {
      "cell_type": "code",
      "source": [
        "for epoch in range(1, epochs + 1):\n",
        "    model.train()\n",
        "    train_losses = []\n",
        "    for inputs, targets in train_loader:\n",
        "        inputs = inputs.to(device)\n",
        "        targets = targets.to(device)\n",
        "        optimizer.zero_grad()\n",
        "        outputs = model(inputs)\n",
        "        loss = criterion(outputs.squeeze(), targets.to(torch.float32)) #形状と型を同じにする\n",
        "        loss.backward()\n",
        "        optimizer.step()\n",
        "        train_losses.append(loss.item())\n",
        "\n",
        "    if epoch % 50 == 0:\n",
        "        model.eval()\n",
        "        val_losses = []\n",
        "        with torch.no_grad():\n",
        "            for inputs, targets in val_loader:\n",
        "                inputs = inputs.to(device)\n",
        "                targets = targets.to(device)\n",
        "                outputs = model(inputs)\n",
        "                loss = criterion(outputs.squeeze(), targets.to(torch.float32))\n",
        "                val_losses.append(loss.item())\n",
        "\n",
        "        print(f'Epoch {epoch}: Train Loss: {sum(train_losses)/len(train_losses):.4f}, '\n",
        "              f'Validation Loss: {sum(val_losses)/len(val_losses):.4f}')"
      ],
      "metadata": {
        "id": "yXlRaNoSpqyi",
        "outputId": "f1667112-534f-4dd3-94a8-361601a9a488",
        "colab": {
          "base_uri": "https://localhost:8080/"
        }
      },
      "execution_count": 16,
      "outputs": [
        {
          "output_type": "stream",
          "name": "stdout",
          "text": [
            "Epoch 50: Train Loss: 0.6622, Validation Loss: 0.7124\n",
            "Epoch 100: Train Loss: 0.6394, Validation Loss: 0.7079\n",
            "Epoch 150: Train Loss: 0.7564, Validation Loss: 0.7369\n",
            "Epoch 200: Train Loss: 0.6679, Validation Loss: 0.7212\n",
            "Epoch 250: Train Loss: 0.6624, Validation Loss: 0.7235\n",
            "Epoch 300: Train Loss: 0.6577, Validation Loss: 0.7253\n",
            "Epoch 350: Train Loss: 0.6517, Validation Loss: 0.7223\n",
            "Epoch 400: Train Loss: 0.6321, Validation Loss: 0.7263\n",
            "Epoch 450: Train Loss: 0.2314, Validation Loss: 0.2880\n",
            "Epoch 500: Train Loss: 0.1360, Validation Loss: 0.1698\n",
            "Epoch 550: Train Loss: 0.7951, Validation Loss: 0.8811\n",
            "Epoch 600: Train Loss: 0.1008, Validation Loss: 0.1371\n",
            "Epoch 650: Train Loss: 0.1172, Validation Loss: 0.1364\n",
            "Epoch 700: Train Loss: 0.2298, Validation Loss: 0.6424\n",
            "Epoch 750: Train Loss: 0.0740, Validation Loss: 0.1230\n",
            "Epoch 800: Train Loss: 0.0518, Validation Loss: 0.1682\n",
            "Epoch 850: Train Loss: 0.0873, Validation Loss: 0.1215\n",
            "Epoch 900: Train Loss: 0.2042, Validation Loss: 0.2484\n",
            "Epoch 950: Train Loss: 0.0699, Validation Loss: 0.1210\n",
            "Epoch 1000: Train Loss: 0.1717, Validation Loss: 0.1198\n"
          ]
        }
      ]
    },
    {
      "cell_type": "markdown",
      "source": [
        "評価"
      ],
      "metadata": {
        "id": "HYCYhid1pXEj"
      }
    },
    {
      "cell_type": "code",
      "source": [
        "from sklearn.metrics import confusion_matrix, f1_score\n",
        "import numpy as np\n",
        "def evaluate_model(model, data_loader):\n",
        "    model.eval()\n",
        "    all_predictions = []\n",
        "    all_targets = []\n",
        "    with torch.no_grad():\n",
        "        for inputs, targets in data_loader:\n",
        "            inputs = inputs.to(device)\n",
        "            outputs = model(inputs)\n",
        "            predictions = (outputs > 0.5).float()\n",
        "            all_predictions.extend(predictions.view(-1).tolist())\n",
        "            all_targets.extend(targets.view(-1).tolist())\n",
        "\n",
        "    # F1スコアと混同行列を計算\n",
        "    all_predictions = np.array(all_predictions)\n",
        "    all_targets = np.array(all_targets)\n",
        "    f1 = f1_score(all_targets, all_predictions)\n",
        "    cm = confusion_matrix(all_targets, all_predictions)\n",
        "    return f1, cm\n",
        "\n",
        "# モデル評価\n",
        "f1, cm = evaluate_model(model, val_loader)\n",
        "print(\"Validation F1 Score:\", f1)\n",
        "print(\"Confusion Matrix:\\n\", cm)"
      ],
      "metadata": {
        "id": "b7qidZger6eI",
        "outputId": "6b308d6d-43cb-4c01-d613-e6de51975789",
        "colab": {
          "base_uri": "https://localhost:8080/"
        }
      },
      "execution_count": 17,
      "outputs": [
        {
          "output_type": "stream",
          "name": "stdout",
          "text": [
            "Validation F1 Score: 0.9655172413793104\n",
            "Confusion Matrix:\n",
            " [[30  0]\n",
            " [ 2 28]]\n"
          ]
        }
      ]
    },
    {
      "cell_type": "code",
      "source": [],
      "metadata": {
        "id": "viTzfjQsLSIo"
      },
      "execution_count": null,
      "outputs": []
    }
  ]
}